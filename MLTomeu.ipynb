{
  "nbformat": 4,
  "nbformat_minor": 0,
  "metadata": {
    "colab": {
      "provenance": [],
      "authorship_tag": "ABX9TyNCQPVSzT/yEXn/M0bM5YeG",
      "include_colab_link": true
    },
    "kernelspec": {
      "name": "python3",
      "display_name": "Python 3"
    },
    "language_info": {
      "name": "python"
    }
  },
  "cells": [
    {
      "cell_type": "markdown",
      "metadata": {
        "id": "view-in-github",
        "colab_type": "text"
      },
      "source": [
        "<a href=\"https://colab.research.google.com/github/PonsRullan/Bartolome/blob/main/MLTomeu.ipynb\" target=\"_parent\"><img src=\"https://colab.research.google.com/assets/colab-badge.svg\" alt=\"Open In Colab\"/></a>"
      ]
    },
    {
      "cell_type": "markdown",
      "source": [
        "# Trabajo final de asignatura"
      ],
      "metadata": {
        "id": "uWLew-MfX80t"
      }
    },
    {
      "cell_type": "markdown",
      "source": [
        "Bartolome Pons Rullan"
      ],
      "metadata": {
        "id": "YcOxTx93Rsin"
      }
    },
    {
      "cell_type": "markdown",
      "source": [
        "\n",
        "El objetivo de la prática consiste en clasificar y evaluar diferentes \n",
        "algoritmos de clasificación de ML.\n",
        "Los datos son imágenes de escasa resolución de objetos reales \n",
        "(por ejemplo: un oso, un avión, un tren, etc.) que pertenecen a una categoría\n",
        "(p.ej. mamíferos, vehículos, etc.). Los datos están separados en tres ficheros:\n",
        "- fichero *meta*: dispone de información descriptiva de las etiquetas usadas\n",
        "- fichero *train*: los datos de entreno\n",
        "- fichero *test*: los datos para la evaluación.\n",
        "Estos tres ficheros se proporcionan en formato binario por su elevado tamaño.\n",
        "\n",
        "Se pide:\n",
        "- 1. Analiza con mayor detalle la dimensionalidad de los datos. Contesta a: \n",
        "    ¿cuántos MB ocuparían los ficheros **train** y **test** si las imágenes \n",
        "    que contienen estuvieran en formato jpg?\n",
        "- 2. Selecciona datos para entrenar un modelo de clasificación usando la \n",
        "    librería sklearn con tan solo las entidades de tres categorías elegidas al azar por el sistema.\n",
        "- 3. Aplica, configura y analiza los resultados tras aplicar los siguientes \n",
        "    algoritmos de clasificación sobre los datos seleccionados previamente:\n",
        "  - Support Vector Machine\n",
        "  - Random Forest Classifier\n",
        "  - K Neighbors Classifier\n",
        "- 4. Compara los resultados de los tres algoritmos.\n"
      ],
      "metadata": {
        "id": "Fjyp11TgVIqb"
      }
    },
    {
      "cell_type": "markdown",
      "source": [
        "Created on Mon Feb 13 15:01:14 2023"
      ],
      "metadata": {
        "id": "1xjZkGNIRJLR"
      }
    },
    {
      "cell_type": "code",
      "source": [
        "%pip freeze"
      ],
      "metadata": {
        "colab": {
          "base_uri": "https://localhost:8080/"
        },
        "id": "dbsMzVCw1yy8",
        "outputId": "e7c1e6d1-0968-4154-f8e0-eb41423db0d9"
      },
      "execution_count": 1,
      "outputs": [
        {
          "output_type": "stream",
          "name": "stdout",
          "text": [
            "absl-py==1.4.0\n",
            "aeppl==0.0.33\n",
            "aesara==2.7.9\n",
            "aiohttp==3.8.4\n",
            "aiosignal==1.3.1\n",
            "alabaster==0.7.13\n",
            "albumentations==1.2.1\n",
            "altair==4.2.2\n",
            "appdirs==1.4.4\n",
            "argon2-cffi==21.3.0\n",
            "argon2-cffi-bindings==21.2.0\n",
            "arviz==0.12.1\n",
            "astor==0.8.1\n",
            "astropy==4.3.1\n",
            "astunparse==1.6.3\n",
            "async-timeout==4.0.2\n",
            "atari-py==0.2.9\n",
            "atomicwrites==1.4.1\n",
            "attrs==22.2.0\n",
            "audioread==3.0.0\n",
            "autograd==1.5\n",
            "Babel==2.11.0\n",
            "backcall==0.2.0\n",
            "beautifulsoup4==4.6.3\n",
            "bleach==6.0.0\n",
            "blis==0.7.9\n",
            "bokeh==2.3.3\n",
            "branca==0.6.0\n",
            "bs4==0.0.1\n",
            "CacheControl==0.12.11\n",
            "cachetools==5.3.0\n",
            "catalogue==2.0.8\n",
            "certifi==2022.12.7\n",
            "cffi==1.15.1\n",
            "cftime==1.6.2\n",
            "chardet==4.0.0\n",
            "charset-normalizer==3.0.1\n",
            "click==7.1.2\n",
            "clikit==0.6.2\n",
            "cloudpickle==2.2.1\n",
            "cmake==3.22.6\n",
            "cmdstanpy==1.1.0\n",
            "colorcet==3.0.1\n",
            "colorlover==0.3.0\n",
            "community==1.0.0b1\n",
            "confection==0.0.4\n",
            "cons==0.4.5\n",
            "contextlib2==0.5.5\n",
            "convertdate==2.4.0\n",
            "crashtest==0.3.1\n",
            "crcmod==1.7\n",
            "cufflinks==0.17.3\n",
            "cvxopt==1.3.0\n",
            "cvxpy==1.2.3\n",
            "cycler==0.11.0\n",
            "cymem==2.0.7\n",
            "Cython==0.29.33\n",
            "daft==0.0.4\n",
            "dask==2022.2.1\n",
            "datascience==0.17.5\n",
            "db-dtypes==1.0.5\n",
            "dbus-python==1.2.16\n",
            "debugpy==1.0.0\n",
            "decorator==4.4.2\n",
            "defusedxml==0.7.1\n",
            "descartes==1.1.0\n",
            "dill==0.3.6\n",
            "distributed==2022.2.1\n",
            "dlib==19.24.0\n",
            "dm-tree==0.1.8\n",
            "dnspython==2.3.0\n",
            "docutils==0.16\n",
            "dopamine-rl==1.0.5\n",
            "earthengine-api==0.1.341\n",
            "easydict==1.10\n",
            "ecos==2.0.12\n",
            "editdistance==0.5.3\n",
            "en-core-web-sm @ https://github.com/explosion/spacy-models/releases/download/en_core_web_sm-3.4.1/en_core_web_sm-3.4.1-py3-none-any.whl\n",
            "entrypoints==0.4\n",
            "ephem==4.1.4\n",
            "et-xmlfile==1.1.0\n",
            "etils==1.0.0\n",
            "etuples==0.3.8\n",
            "fa2==0.3.5\n",
            "fastai==2.7.11\n",
            "fastcore==1.5.28\n",
            "fastdownload==0.0.7\n",
            "fastdtw==0.3.4\n",
            "fastjsonschema==2.16.2\n",
            "fastprogress==1.0.3\n",
            "fastrlock==0.8.1\n",
            "feather-format==0.4.1\n",
            "filelock==3.9.0\n",
            "firebase-admin==5.3.0\n",
            "fix-yahoo-finance==0.0.22\n",
            "Flask==1.1.4\n",
            "flatbuffers==23.1.21\n",
            "folium==0.12.1.post1\n",
            "frozenlist==1.3.3\n",
            "fsspec==2023.1.0\n",
            "future==0.16.0\n",
            "gast==0.4.0\n",
            "GDAL==3.3.2\n",
            "gdown==4.4.0\n",
            "gensim==3.6.0\n",
            "geographiclib==1.52\n",
            "geopy==1.17.0\n",
            "gin-config==0.5.0\n",
            "glob2==0.7\n",
            "google==2.0.3\n",
            "google-api-core==2.11.0\n",
            "google-api-python-client==2.70.0\n",
            "google-auth==2.16.0\n",
            "google-auth-httplib2==0.1.0\n",
            "google-auth-oauthlib==0.4.6\n",
            "google-cloud-bigquery==3.4.2\n",
            "google-cloud-bigquery-storage==2.18.1\n",
            "google-cloud-core==2.3.2\n",
            "google-cloud-datastore==2.11.1\n",
            "google-cloud-firestore==2.7.3\n",
            "google-cloud-language==2.6.1\n",
            "google-cloud-storage==2.7.0\n",
            "google-cloud-translate==3.8.4\n",
            "google-colab @ file:///colabtools/dist/google-colab-1.0.0.tar.gz\n",
            "google-crc32c==1.5.0\n",
            "google-pasta==0.2.0\n",
            "google-resumable-media==2.4.1\n",
            "googleapis-common-protos==1.58.0\n",
            "googledrivedownloader==0.4\n",
            "graphviz==0.10.1\n",
            "greenlet==2.0.2\n",
            "grpcio==1.51.1\n",
            "grpcio-status==1.48.2\n",
            "gspread==3.4.2\n",
            "gspread-dataframe==3.0.8\n",
            "gym==0.25.2\n",
            "gym-notices==0.0.8\n",
            "h5py==3.1.0\n",
            "HeapDict==1.0.1\n",
            "hijri-converter==2.2.4\n",
            "holidays==0.19\n",
            "holoviews==1.14.9\n",
            "html5lib==1.0.1\n",
            "httpimport==0.5.18\n",
            "httplib2==0.17.4\n",
            "httpstan==4.6.1\n",
            "humanize==0.5.1\n",
            "hyperopt==0.1.2\n",
            "idna==2.10\n",
            "imageio==2.9.0\n",
            "imagesize==1.4.1\n",
            "imbalanced-learn==0.8.1\n",
            "imblearn==0.0\n",
            "imgaug==0.4.0\n",
            "importlib-metadata==6.0.0\n",
            "importlib-resources==5.10.2\n",
            "imutils==0.5.4\n",
            "inflect==2.1.0\n",
            "intel-openmp==2023.0.0\n",
            "intervaltree==2.1.0\n",
            "ipykernel==5.3.4\n",
            "ipython==7.9.0\n",
            "ipython-genutils==0.2.0\n",
            "ipython-sql==0.3.9\n",
            "ipywidgets==7.7.1\n",
            "itsdangerous==1.1.0\n",
            "jax==0.3.25\n",
            "jaxlib @ https://storage.googleapis.com/jax-releases/cuda11/jaxlib-0.3.25+cuda11.cudnn805-cp38-cp38-manylinux2014_x86_64.whl\n",
            "jieba==0.42.1\n",
            "Jinja2==2.11.3\n",
            "joblib==1.2.0\n",
            "jpeg4py==0.1.4\n",
            "jsonschema==4.3.3\n",
            "jupyter-client==6.1.12\n",
            "jupyter-console==6.1.0\n",
            "jupyter_core==5.2.0\n",
            "jupyterlab-widgets==3.0.5\n",
            "kaggle==1.5.12\n",
            "kapre==0.3.7\n",
            "keras==2.11.0\n",
            "keras-vis==0.4.1\n",
            "kiwisolver==1.4.4\n",
            "korean-lunar-calendar==0.3.1\n",
            "langcodes==3.3.0\n",
            "libclang==15.0.6.1\n",
            "librosa==0.8.1\n",
            "lightgbm==2.2.3\n",
            "llvmlite==0.39.1\n",
            "lmdb==0.99\n",
            "locket==1.0.0\n",
            "logical-unification==0.4.5\n",
            "LunarCalendar==0.0.9\n",
            "lxml==4.9.2\n",
            "Markdown==3.4.1\n",
            "MarkupSafe==2.0.1\n",
            "marshmallow==3.19.0\n",
            "matplotlib==3.2.2\n",
            "matplotlib-venn==0.11.7\n",
            "miniKanren==1.0.3\n",
            "missingno==0.5.1\n",
            "mistune==0.8.4\n",
            "mizani==0.7.3\n",
            "mkl==2019.0\n",
            "mlxtend==0.14.0\n",
            "more-itertools==9.0.0\n",
            "moviepy==0.2.3.5\n",
            "mpmath==1.2.1\n",
            "msgpack==1.0.4\n",
            "multidict==6.0.4\n",
            "multipledispatch==0.6.0\n",
            "multitasking==0.0.11\n",
            "murmurhash==1.0.9\n",
            "music21==5.5.0\n",
            "natsort==5.5.0\n",
            "nbconvert==5.6.1\n",
            "nbformat==5.7.3\n",
            "netCDF4==1.6.2\n",
            "networkx==3.0\n",
            "nibabel==3.0.2\n",
            "nltk==3.7\n",
            "notebook==6.3.0\n",
            "numba==0.56.4\n",
            "numexpr==2.8.4\n",
            "numpy==1.22.4\n",
            "oauth2client==4.1.3\n",
            "oauthlib==3.2.2\n",
            "okgrade==0.4.3\n",
            "opencv-contrib-python==4.6.0.66\n",
            "opencv-python==4.6.0.66\n",
            "opencv-python-headless==4.7.0.68\n",
            "openpyxl==3.0.10\n",
            "opt-einsum==3.3.0\n",
            "osqp==0.6.2.post0\n",
            "packaging==23.0\n",
            "palettable==3.3.0\n",
            "pandas==1.3.5\n",
            "pandas-datareader==0.9.0\n",
            "pandas-gbq==0.17.9\n",
            "pandas-profiling==1.4.1\n",
            "pandocfilters==1.5.0\n",
            "panel==0.12.1\n",
            "param==1.12.3\n",
            "parso==0.8.3\n",
            "partd==1.3.0\n",
            "pastel==0.2.1\n",
            "pathlib==1.0.1\n",
            "pathy==0.10.1\n",
            "patsy==0.5.3\n",
            "pep517==0.13.0\n",
            "pexpect==4.8.0\n",
            "pickleshare==0.7.5\n",
            "Pillow==7.1.2\n",
            "pip-tools==6.6.2\n",
            "platformdirs==3.0.0\n",
            "plotly==5.5.0\n",
            "plotnine==0.8.0\n",
            "pluggy==0.7.1\n",
            "pooch==1.6.0\n",
            "portpicker==1.3.9\n",
            "prefetch-generator==1.0.3\n",
            "preshed==3.0.8\n",
            "prettytable==3.6.0\n",
            "progressbar2==3.38.0\n",
            "prometheus-client==0.16.0\n",
            "promise==2.3\n",
            "prompt-toolkit==2.0.10\n",
            "prophet==1.1.2\n",
            "proto-plus==1.22.2\n",
            "protobuf==3.19.6\n",
            "psutil==5.4.8\n",
            "psycopg2==2.9.5\n",
            "ptyprocess==0.7.0\n",
            "py==1.11.0\n",
            "pyarrow==9.0.0\n",
            "pyasn1==0.4.8\n",
            "pyasn1-modules==0.2.8\n",
            "pycocotools==2.0.6\n",
            "pycparser==2.21\n",
            "pyct==0.5.0\n",
            "pydantic==1.10.5\n",
            "pydata-google-auth==1.7.0\n",
            "pydot==1.3.0\n",
            "pydot-ng==2.0.0\n",
            "pydotplus==2.0.2\n",
            "PyDrive==1.3.1\n",
            "pyemd==0.5.1\n",
            "pyerfa==2.0.0.1\n",
            "Pygments==2.6.1\n",
            "PyGObject==3.36.0\n",
            "pylev==1.4.0\n",
            "pymc==4.1.4\n",
            "PyMeeus==0.5.12\n",
            "pymongo==4.3.3\n",
            "pymystem3==0.2.0\n",
            "PyOpenGL==3.1.6\n",
            "pyparsing==3.0.9\n",
            "pyrsistent==0.19.3\n",
            "pysimdjson==3.2.0\n",
            "PySocks==1.7.1\n",
            "pystan==3.3.0\n",
            "pytest==3.6.4\n",
            "python-apt==2.0.1\n",
            "python-dateutil==2.8.2\n",
            "python-louvain==0.16\n",
            "python-slugify==8.0.0\n",
            "python-utils==3.5.2\n",
            "pytz==2022.7.1\n",
            "pyviz-comms==2.2.1\n",
            "PyWavelets==1.4.1\n",
            "PyYAML==6.0\n",
            "pyzmq==23.2.1\n",
            "qdldl==0.1.5.post3\n",
            "qudida==0.0.4\n",
            "regex==2022.6.2\n",
            "requests==2.25.1\n",
            "requests-oauthlib==1.3.1\n",
            "requests-unixsocket==0.2.0\n",
            "resampy==0.4.2\n",
            "rpy2==3.5.5\n",
            "rsa==4.9\n",
            "scikit-image==0.18.3\n",
            "scikit-learn==1.0.2\n",
            "scipy==1.7.3\n",
            "screen-resolution-extra==0.0.0\n",
            "scs==3.2.2\n",
            "seaborn==0.11.2\n",
            "Send2Trash==1.8.0\n",
            "shapely==2.0.1\n",
            "six==1.15.0\n",
            "sklearn-pandas==1.8.0\n",
            "smart-open==6.3.0\n",
            "snowballstemmer==2.2.0\n",
            "sortedcontainers==2.4.0\n",
            "soundfile==0.12.1\n",
            "spacy==3.4.4\n",
            "spacy-legacy==3.0.12\n",
            "spacy-loggers==1.0.4\n",
            "Sphinx==3.5.4\n",
            "sphinxcontrib-applehelp==1.0.4\n",
            "sphinxcontrib-devhelp==1.0.2\n",
            "sphinxcontrib-htmlhelp==2.0.1\n",
            "sphinxcontrib-jsmath==1.0.1\n",
            "sphinxcontrib-qthelp==1.0.3\n",
            "sphinxcontrib-serializinghtml==1.1.5\n",
            "SQLAlchemy==1.4.46\n",
            "sqlparse==0.4.3\n",
            "srsly==2.4.5\n",
            "statsmodels==0.12.2\n",
            "sympy==1.7.1\n",
            "tables==3.7.0\n",
            "tabulate==0.8.10\n",
            "tblib==1.7.0\n",
            "tenacity==8.2.1\n",
            "tensorboard==2.11.2\n",
            "tensorboard-data-server==0.6.1\n",
            "tensorboard-plugin-wit==1.8.1\n",
            "tensorflow==2.11.0\n",
            "tensorflow-datasets==4.8.2\n",
            "tensorflow-estimator==2.11.0\n",
            "tensorflow-gcs-config==2.11.0\n",
            "tensorflow-hub==0.12.0\n",
            "tensorflow-io-gcs-filesystem==0.30.0\n",
            "tensorflow-metadata==1.12.0\n",
            "tensorflow-probability==0.19.0\n",
            "termcolor==2.2.0\n",
            "terminado==0.13.3\n",
            "testpath==0.6.0\n",
            "text-unidecode==1.3\n",
            "textblob==0.15.3\n",
            "thinc==8.1.7\n",
            "threadpoolctl==3.1.0\n",
            "tifffile==2023.2.3\n",
            "toml==0.10.2\n",
            "tomli==2.0.1\n",
            "toolz==0.12.0\n",
            "torch @ https://download.pytorch.org/whl/cu116/torch-1.13.1%2Bcu116-cp38-cp38-linux_x86_64.whl\n",
            "torchaudio @ https://download.pytorch.org/whl/cu116/torchaudio-0.13.1%2Bcu116-cp38-cp38-linux_x86_64.whl\n",
            "torchsummary==1.5.1\n",
            "torchtext==0.14.1\n",
            "torchvision @ https://download.pytorch.org/whl/cu116/torchvision-0.14.1%2Bcu116-cp38-cp38-linux_x86_64.whl\n",
            "tornado==6.2\n",
            "tqdm==4.64.1\n",
            "traitlets==5.7.1\n",
            "tweepy==3.10.0\n",
            "typeguard==2.7.1\n",
            "typer==0.7.0\n",
            "typing_extensions==4.5.0\n",
            "tzlocal==1.5.1\n",
            "uritemplate==4.1.1\n",
            "urllib3==1.24.3\n",
            "vega-datasets==0.9.0\n",
            "wasabi==0.10.1\n",
            "wcwidth==0.2.6\n",
            "webargs==8.2.0\n",
            "webencodings==0.5.1\n",
            "Werkzeug==1.0.1\n",
            "widgetsnbextension==3.6.2\n",
            "wordcloud==1.8.2.2\n",
            "wrapt==1.14.1\n",
            "xarray==2022.12.0\n",
            "xarray-einstats==0.5.1\n",
            "xgboost==0.90\n",
            "xkit==0.0.0\n",
            "xlrd==1.2.0\n",
            "xlwt==1.3.0\n",
            "yarl==1.8.2\n",
            "yellowbrick==1.5\n",
            "zict==2.2.0\n",
            "zipp==3.13.0\n"
          ]
        }
      ]
    },
    {
      "cell_type": "markdown",
      "source": [
        "#Vamos a cargar los paquetes que necesitaremos en el codigo"
      ],
      "metadata": {
        "id": "27XVdlTuYNYI"
      }
    },
    {
      "cell_type": "code",
      "source": [
        "import pandas as pd\n",
        "import pickle\n",
        "import numpy as np\n",
        "import matplotlib.pyplot as plt\n",
        "import random\n",
        "from random import sample\n",
        "import statistics as stat \n",
        "from statistics import mode\n",
        "import os\n",
        "from sklearn.pipeline import make_pipeline\n",
        "from sklearn.preprocessing import StandardScaler\n",
        "from sklearn import metrics\n",
        "from sklearn.metrics import confusion_matrix\n",
        "from sklearn.metrics import classification_report\n",
        "from sklearn.model_selection import train_test_split\n",
        "from sklearn import svm\n",
        "from sklearn.ensemble import RandomForestClassifier\n",
        "from sklearn.neighbors import KNeighborsClassifier\n",
        "import seaborn as sns"
      ],
      "metadata": {
        "id": "ktxd6NILUNKy"
      },
      "execution_count": 2,
      "outputs": []
    },
    {
      "cell_type": "markdown",
      "source": [
        "Función para carga de datos. Formato binario propio de pandas: pickle"
      ],
      "metadata": {
        "id": "Rkmu2nJgcg8K"
      }
    },
    {
      "cell_type": "code",
      "source": [
        "def unpickle(file):\n",
        "    with open(file, 'rb') as f:     \n",
        "        data = pickle.load(f, encoding='bytes') \n",
        "    return data"
      ],
      "metadata": {
        "id": "5vBERwFUTMPn"
      },
      "execution_count": 3,
      "outputs": []
    },
    {
      "cell_type": "markdown",
      "source": [
        "Fichero META: descripcion de la base de datos"
      ],
      "metadata": {
        "id": "Ipdm0ZVGcx7Q"
      }
    },
    {
      "cell_type": "code",
      "source": [
        "dataMeta = unpickle(\"meta\")\n",
        "print(dataMeta.keys())"
      ],
      "metadata": {
        "id": "dfwhP7JvTNPe",
        "outputId": "8b5d31b5-d085-4b99-80be-24bca821ea8c",
        "colab": {
          "base_uri": "https://localhost:8080/"
        }
      },
      "execution_count": 4,
      "outputs": [
        {
          "output_type": "stream",
          "name": "stdout",
          "text": [
            "dict_keys([b'fine_label_names', b'coarse_label_names'])\n"
          ]
        }
      ]
    },
    {
      "cell_type": "markdown",
      "source": [
        "Tipos de entidades"
      ],
      "metadata": {
        "id": "Wp1cmNSweIOT"
      }
    },
    {
      "cell_type": "code",
      "source": [
        "print(len(dataMeta[b'fine_label_names']))\n",
        "print(dataMeta[b'fine_label_names'])"
      ],
      "metadata": {
        "id": "8ExYJ2UHda2x",
        "outputId": "f58f283d-d352-4cba-be82-043231c616fd",
        "colab": {
          "base_uri": "https://localhost:8080/"
        }
      },
      "execution_count": 5,
      "outputs": [
        {
          "output_type": "stream",
          "name": "stdout",
          "text": [
            "100\n",
            "[b'apple', b'aquarium_fish', b'baby', b'bear', b'beaver', b'bed', b'bee', b'beetle', b'bicycle', b'bottle', b'bowl', b'boy', b'bridge', b'bus', b'butterfly', b'camel', b'can', b'castle', b'caterpillar', b'cattle', b'chair', b'chimpanzee', b'clock', b'cloud', b'cockroach', b'couch', b'crab', b'crocodile', b'cup', b'dinosaur', b'dolphin', b'elephant', b'flatfish', b'forest', b'fox', b'girl', b'hamster', b'house', b'kangaroo', b'keyboard', b'lamp', b'lawn_mower', b'leopard', b'lion', b'lizard', b'lobster', b'man', b'maple_tree', b'motorcycle', b'mountain', b'mouse', b'mushroom', b'oak_tree', b'orange', b'orchid', b'otter', b'palm_tree', b'pear', b'pickup_truck', b'pine_tree', b'plain', b'plate', b'poppy', b'porcupine', b'possum', b'rabbit', b'raccoon', b'ray', b'road', b'rocket', b'rose', b'sea', b'seal', b'shark', b'shrew', b'skunk', b'skyscraper', b'snail', b'snake', b'spider', b'squirrel', b'streetcar', b'sunflower', b'sweet_pepper', b'table', b'tank', b'telephone', b'television', b'tiger', b'tractor', b'train', b'trout', b'tulip', b'turtle', b'wardrobe', b'whale', b'willow_tree', b'wolf', b'woman', b'worm']\n"
          ]
        }
      ]
    },
    {
      "cell_type": "markdown",
      "source": [
        "y sus categorías"
      ],
      "metadata": {
        "id": "O70Jd6xre1UR"
      }
    },
    {
      "cell_type": "code",
      "source": [
        "print(len(dataMeta[b'coarse_label_names']))\n",
        "print(dataMeta[b'coarse_label_names'])"
      ],
      "metadata": {
        "id": "9Lz2hp5ie5zP",
        "outputId": "ff85ec1f-6e6b-4a38-8b64-52fe0dd6f879",
        "colab": {
          "base_uri": "https://localhost:8080/"
        }
      },
      "execution_count": 6,
      "outputs": [
        {
          "output_type": "stream",
          "name": "stdout",
          "text": [
            "20\n",
            "[b'aquatic_mammals', b'fish', b'flowers', b'food_containers', b'fruit_and_vegetables', b'household_electrical_devices', b'household_furniture', b'insects', b'large_carnivores', b'large_man-made_outdoor_things', b'large_natural_outdoor_scenes', b'large_omnivores_and_herbivores', b'medium_mammals', b'non-insect_invertebrates', b'people', b'reptiles', b'small_mammals', b'trees', b'vehicles_1', b'vehicles_2']\n"
          ]
        }
      ]
    },
    {
      "cell_type": "markdown",
      "source": [
        "Fichero TRAIN"
      ],
      "metadata": {
        "id": "oVkOALFNe98N"
      }
    },
    {
      "cell_type": "code",
      "source": [
        "datatrain = unpickle(\"train\")\n",
        "\n",
        "print(datatrain.keys())\n",
        "print(len(datatrain[b'filenames']))"
      ],
      "metadata": {
        "id": "3m2XZ7pTfCBD",
        "outputId": "0be731fa-6b7c-4b56-b80c-71ccc5d59626",
        "colab": {
          "base_uri": "https://localhost:8080/"
        }
      },
      "execution_count": 7,
      "outputs": [
        {
          "output_type": "stream",
          "name": "stdout",
          "text": [
            "dict_keys([b'filenames', b'batch_label', b'fine_labels', b'coarse_labels', b'data'])\n",
            "50000\n"
          ]
        }
      ]
    },
    {
      "cell_type": "markdown",
      "source": [
        "en vez de una tabla, vamos a hacer subarrays de datatrain y datatest por partes del diccionario: pixels (dtrain), etiquetas con detalle (dtrainflabels), categorias (dtrainclabels), el resto los dejamos de momento en paz"
      ],
      "metadata": {
        "id": "l-fYIWckP1IG"
      }
    },
    {
      "cell_type": "code",
      "source": [
        "dtrain=datatrain[b'data']\n",
        "dtrainflabels=datatrain[b'fine_labels']\n",
        "dtrainclabels=datatrain[b'coarse_labels']\n",
        "print(dtrain.shape)"
      ],
      "metadata": {
        "id": "ooL7t9j6fWou",
        "colab": {
          "base_uri": "https://localhost:8080/"
        },
        "outputId": "f2dfefa9-b1c5-47aa-b21a-07efdde4fbac"
      },
      "execution_count": 8,
      "outputs": [
        {
          "output_type": "stream",
          "name": "stdout",
          "text": [
            "(50000, 3072)\n"
          ]
        }
      ]
    },
    {
      "cell_type": "markdown",
      "source": [
        "Cada entidad, se encuentra en una posición de cada uno de los anteriores atributos\n",
        "Vamos a ver la entidad '0'"
      ],
      "metadata": {
        "id": "cSO78O-efW78"
      }
    },
    {
      "cell_type": "code",
      "source": [
        "print(len(dtrain[0]))"
      ],
      "metadata": {
        "id": "Y5jRGIn7fhVV",
        "colab": {
          "base_uri": "https://localhost:8080/"
        },
        "outputId": "f6ee5b46-5dc1-45e2-ee43-8cb0d0c1b91b"
      },
      "execution_count": 9,
      "outputs": [
        {
          "output_type": "stream",
          "name": "stdout",
          "text": [
            "3072\n"
          ]
        }
      ]
    },
    {
      "cell_type": "markdown",
      "source": [
        "Los datos de cada entidad contienen los valores de la imagen. La imagen se obtiene por la combinación de tres canales/capas (red, green, blue) de la siguiente forma:"
      ],
      "metadata": {
        "id": "1TCJtr-bf5D9"
      }
    },
    {
      "cell_type": "code",
      "source": [
        "ch0 = dtrain[0][0:1024]\n",
        "ch1 = dtrain[0][1024:2048]\n",
        "ch2 = dtrain[0][2048:]"
      ],
      "metadata": {
        "id": "sBsvqiuXf_qq"
      },
      "execution_count": 10,
      "outputs": []
    },
    {
      "cell_type": "markdown",
      "source": [
        "Cada canal es una capa del correspondiente color"
      ],
      "metadata": {
        "id": "2kaPPETVgF_O"
      }
    },
    {
      "cell_type": "code",
      "source": [
        "ch0 = np.reshape(ch0, (32,32)) # red\n",
        "ch1 = np.reshape(ch1, (32,32)) # green\n",
        "ch2 = np.reshape(ch2, (32,32)) # blue"
      ],
      "metadata": {
        "id": "wiCCOV79gqoo"
      },
      "execution_count": 11,
      "outputs": []
    },
    {
      "cell_type": "markdown",
      "source": [
        "La combinación de ellas da una imagen con los tres colores:"
      ],
      "metadata": {
        "id": "m30azSM9gusP"
      }
    },
    {
      "cell_type": "code",
      "source": [
        "image = np.dstack((ch0, ch1, ch2))\n",
        "\n",
        "fig, ax = plt.subplots(figsize=(2, 2))\n",
        "\n",
        "ax.imshow(image)\n",
        "plt.savefig('cattle.jpg',bbox_inches='tight')\n",
        "plt.show()"
      ],
      "metadata": {
        "id": "0yWWrTxFhjr7",
        "colab": {
          "base_uri": "https://localhost:8080/",
          "height": 159
        },
        "outputId": "0e5a89c3-ba47-4328-9bdd-28a881f71457"
      },
      "execution_count": 12,
      "outputs": [
        {
          "output_type": "display_data",
          "data": {
            "text/plain": [
              "<Figure size 144x144 with 1 Axes>"
            ],
            "image/png": "[encoded data removed]"
          },
          "metadata": {
            "needs_background": "light"
          }
        }
      ]
    },
    {
      "cell_type": "markdown",
      "source": [
        "La etiqueta y categoría de la entidad '0' están codificados en \n",
        "los atributos:"
      ],
      "metadata": {
        "id": "KHla4pCUhj6j"
      }
    },
    {
      "cell_type": "code",
      "source": [
        "code_fine_label = dtrainflabels[0]\n",
        "code_coarse_label = dtrainclabels[0]\n",
        "print(code_fine_label)\n",
        "print(code_coarse_label)"
      ],
      "metadata": {
        "id": "oPjzTebOhyAe",
        "colab": {
          "base_uri": "https://localhost:8080/"
        },
        "outputId": "d1dbc8e8-baab-44b5-f12c-73f0093a393b"
      },
      "execution_count": 13,
      "outputs": [
        {
          "output_type": "stream",
          "name": "stdout",
          "text": [
            "19\n",
            "11\n"
          ]
        }
      ]
    },
    {
      "cell_type": "markdown",
      "source": [
        "Necesitamos la información del fichero META para poner nombre al código de la etiqueta"
      ],
      "metadata": {
        "id": "TSy1CnD5h4ph"
      }
    },
    {
      "cell_type": "code",
      "source": [
        "print(dataMeta[b'fine_label_names'][code_fine_label])\n",
        "print(dataMeta[b'coarse_label_names'][code_coarse_label])"
      ],
      "metadata": {
        "id": "7JXvGpNdiD5j",
        "colab": {
          "base_uri": "https://localhost:8080/"
        },
        "outputId": "d3132269-c7e8-4926-b0d1-a22a646b6b3b"
      },
      "execution_count": 14,
      "outputs": [
        {
          "output_type": "stream",
          "name": "stdout",
          "text": [
            "b'cattle'\n",
            "b'large_omnivores_and_herbivores'\n"
          ]
        }
      ]
    },
    {
      "cell_type": "markdown",
      "source": [
        "para guardar en formato .jpg"
      ],
      "metadata": {
        "id": "xTyKv7sks_ur"
      }
    },
    {
      "cell_type": "code",
      "source": [
        "fig, ax = plt.subplots(figsize=(3, 3))\n",
        "\n",
        "ax.imshow(image)\n",
        "ax.set_title(dataMeta[b'fine_label_names'][code_fine_label].decode(\"utf-8\").capitalize(),y=-.2)\n",
        "plt.axis('off')\n",
        "plt.savefig('cattle.jpg',bbox_inches='tight')\n",
        "plt.show()"
      ],
      "metadata": {
        "id": "IJymi1W0iIID",
        "colab": {
          "base_uri": "https://localhost:8080/",
          "height": 224
        },
        "outputId": "d1105659-fb9b-4710-83b1-edfcd3e09623"
      },
      "execution_count": 15,
      "outputs": [
        {
          "output_type": "display_data",
          "data": {
            "text/plain": [
              "<Figure size 216x216 with 1 Axes>"
            ],
            "image/png": "[encoded data removed]"
          },
          "metadata": {
            "needs_background": "light"
          }
        }
      ]
    },
    {
      "cell_type": "markdown",
      "source": [
        "Fichero TEST: como en TRAIN, tambien sacamos del diccionario una tabla (numeros o valores del color) y dos listas (categorias y etiquetas): 10.000 o 1/6 del total."
      ],
      "metadata": {
        "id": "Fu3qRsgRid1d"
      }
    },
    {
      "cell_type": "code",
      "source": [
        "datatest = unpickle(\"test\")\n",
        "\n",
        "print(datatest.keys())\n",
        "dtest=datatest[b'data']\n",
        "dtestflabels=datatest[b'fine_labels']\n",
        "dtestclabels=datatest[b'coarse_labels']\n",
        "print(dtest.shape)"
      ],
      "metadata": {
        "id": "85ZVLZJ8m_bL",
        "colab": {
          "base_uri": "https://localhost:8080/"
        },
        "outputId": "1512f871-018e-4708-9607-52dae58421cc"
      },
      "execution_count": 16,
      "outputs": [
        {
          "output_type": "stream",
          "name": "stdout",
          "text": [
            "dict_keys([b'filenames', b'batch_label', b'fine_labels', b'coarse_labels', b'data'])\n",
            "(10000, 3072)\n"
          ]
        }
      ]
    },
    {
      "cell_type": "markdown",
      "source": [
        "variable clasificadora: coase_labels"
      ],
      "metadata": {
        "id": "_flC3_dvnDVF"
      }
    },
    {
      "cell_type": "code",
      "source": [
        "print(dtrainclabels[1])"
      ],
      "metadata": {
        "id": "eOSGvbKDnJSe",
        "colab": {
          "base_uri": "https://localhost:8080/"
        },
        "outputId": "4d1fd8d2-5330-41d6-e15a-db379daf435e"
      },
      "execution_count": 17,
      "outputs": [
        {
          "output_type": "stream",
          "name": "stdout",
          "text": [
            "15\n"
          ]
        }
      ]
    },
    {
      "cell_type": "markdown",
      "source": [
        "por ejemplo: la 2ª variable tiene categoria 15"
      ],
      "metadata": {
        "id": "wJn_pmkfnMxy"
      }
    },
    {
      "cell_type": "code",
      "source": [
        "print(dtrainclabels[1])"
      ],
      "metadata": {
        "id": "VDn5lPIvnZwv",
        "colab": {
          "base_uri": "https://localhost:8080/"
        },
        "outputId": "72ebf0e6-4d7b-4853-ab22-5f08215be661"
      },
      "execution_count": 18,
      "outputs": [
        {
          "output_type": "stream",
          "name": "stdout",
          "text": [
            "15\n"
          ]
        }
      ]
    },
    {
      "cell_type": "markdown",
      "source": [
        "por ejemplo: la 2ª variable tiene categoria 15"
      ],
      "metadata": {
        "id": "M9Wvf8nCndVH"
      }
    },
    {
      "cell_type": "markdown",
      "source": [
        "veamos como es el conjunto de entrenamiento. Media será de los valores de las celdas de la key 'data', es decir, 1/3 del color de cada pixel de la entidad (32x32), pero eso es solo un valor, no lo que ocupa\n"
      ],
      "metadata": {
        "id": "3h2X3IYe2OpG"
      }
    },
    {
      "cell_type": "code",
      "source": [
        "print('datos del conjunto de entrenamiento')\n",
        "media=np.mean(dtrain)\n",
        "print('media = ',round(media))\n",
        "mediana=np.median(dtrain)\n",
        "print('mediana = ',round(mediana))\n",
        "desv=np.std(dtrain)\n",
        "print('desviacion_tipica =',round(desv))\n",
        "minimo=np.min(dtrain)\n",
        "maximo=np.max(dtrain)\n",
        "print('rango entre ',minimo, 'y' ,maximo)"
      ],
      "metadata": {
        "id": "ct8Ramy4ns6N",
        "colab": {
          "base_uri": "https://localhost:8080/"
        },
        "outputId": "87e599e1-95cd-4a79-c7d8-c4624231cbcc"
      },
      "execution_count": 19,
      "outputs": [
        {
          "output_type": "stream",
          "name": "stdout",
          "text": [
            "datos del conjunto de entrenamiento\n",
            "media =  122\n",
            "mediana =  116\n",
            "desviacion_tipica = 68\n",
            "rango entre  0 y 255\n"
          ]
        }
      ]
    },
    {
      "cell_type": "markdown",
      "source": [
        "para utilizar Pandas, se requiere formato data frame de los datos de los pixels, pero tambien lo haremos de la columna de categorias"
      ],
      "metadata": {
        "id": "Tw_GC5WPn31a"
      }
    },
    {
      "cell_type": "code",
      "source": [
        "dftrain=pd.DataFrame(dtrain)\n",
        "dftrainclabels=pd.DataFrame(dtrainclabels)"
      ],
      "metadata": {
        "id": "aREUBfy6oBB_"
      },
      "execution_count": 20,
      "outputs": []
    },
    {
      "cell_type": "markdown",
      "source": [
        "Numero de fotos del train"
      ],
      "metadata": {
        "id": "ngZem7_vrzNK"
      }
    },
    {
      "cell_type": "code",
      "source": [
        "numfotos=len(dftrain)\n",
        "print('numero de fotos en train= ',numfotos)"
      ],
      "metadata": {
        "id": "KNDlbjcMoVLU",
        "colab": {
          "base_uri": "https://localhost:8080/"
        },
        "outputId": "e0082ecc-1cc0-4f3e-85d2-70ca393d502f"
      },
      "execution_count": 21,
      "outputs": [
        {
          "output_type": "stream",
          "name": "stdout",
          "text": [
            "numero de fotos en train=  50000\n"
          ]
        }
      ]
    },
    {
      "cell_type": "markdown",
      "source": [
        "tamaño del train en Bytes"
      ],
      "metadata": {
        "id": "UyNeMG-esBFs"
      }
    },
    {
      "cell_type": "code",
      "source": [
        "pesofotos=os.stat('train').st_size \n",
        "print('peso de las fotos = ',pesofotos)"
      ],
      "metadata": {
        "id": "t3YAQ0srsGE7",
        "colab": {
          "base_uri": "https://localhost:8080/"
        },
        "outputId": "d70d2b90-3d36-4e74-83e5-9be5fb2a162b"
      },
      "execution_count": 22,
      "outputs": [
        {
          "output_type": "stream",
          "name": "stdout",
          "text": [
            "peso de las fotos =  155249918\n"
          ]
        }
      ]
    },
    {
      "cell_type": "markdown",
      "source": [
        "lo mismo en MB : 148 MB"
      ],
      "metadata": {
        "id": "MWw2KSJGsM5W"
      }
    },
    {
      "cell_type": "code",
      "source": [
        "mbfotos=pesofotos/(1024*1024)\n",
        "print('MB ocupados = ',round(mbfotos,0))"
      ],
      "metadata": {
        "id": "SF28RkWAsM8A",
        "colab": {
          "base_uri": "https://localhost:8080/"
        },
        "outputId": "69a007ee-af39-4543-c9b5-0a0e7ac7c68a"
      },
      "execution_count": 23,
      "outputs": [
        {
          "output_type": "stream",
          "name": "stdout",
          "text": [
            "MB ocupados =  148.0\n"
          ]
        }
      ]
    },
    {
      "cell_type": "markdown",
      "source": [
        "veamos ahora lo que pesaria si las fotos estuvieran en formato JPG: sabemos que pesa una foto promedio"
      ],
      "metadata": {
        "id": "PNCP22PaoZPD"
      }
    },
    {
      "cell_type": "code",
      "source": [
        "pesofoto=os.stat('cattle.jpg').st_size/(1024^2)\n",
        "print(round(pesofoto,2),'MB')"
      ],
      "metadata": {
        "id": "sxbxe4yuozi2",
        "colab": {
          "base_uri": "https://localhost:8080/"
        },
        "outputId": "7b0a28c7-5bba-47d4-e15d-7f92a9ea0968"
      },
      "execution_count": 24,
      "outputs": [
        {
          "output_type": "stream",
          "name": "stdout",
          "text": [
            "14.01 MB\n"
          ]
        }
      ]
    },
    {
      "cell_type": "markdown",
      "source": [
        "promedio del peso de una foto x numero de fotos del train"
      ],
      "metadata": {
        "id": "kkCIza9Jo0Zl"
      }
    },
    {
      "cell_type": "code",
      "source": [
        "pesotrain=pesofoto*len(dtrain)"
      ],
      "metadata": {
        "id": "XFaslT01pB9M"
      },
      "execution_count": 25,
      "outputs": []
    },
    {
      "cell_type": "markdown",
      "source": [
        "la diferencia si contuvieran JPG:"
      ],
      "metadata": {
        "id": "ItuZxAMTpFFi"
      }
    },
    {
      "cell_type": "code",
      "source": [
        "diferenciaMB=pesotrain-mbfotos\n",
        "print(round(diferenciaMB,0),'MB')"
      ],
      "metadata": {
        "id": "Y03cr2NNpOHL",
        "colab": {
          "base_uri": "https://localhost:8080/"
        },
        "outputId": "2054032d-01c0-415f-f127-0534204046ee"
      },
      "execution_count": 26,
      "outputs": [
        {
          "output_type": "stream",
          "name": "stdout",
          "text": [
            "700242.0 MB\n"
          ]
        }
      ]
    },
    {
      "cell_type": "markdown",
      "source": [
        "copio lo anterior y repito lo mismo: cambio train por test, aunque bastaria que dividiera por 5 el numero de fotos y por tanto los tamaños comparados del test"
      ],
      "metadata": {
        "id": "OKYl2_vZpWFC"
      }
    },
    {
      "cell_type": "code",
      "source": [
        "print('datos del conjunto de prueba')\n",
        "\n",
        "mediat=np.mean(dtest)\n",
        "print('media = ',round(mediat))\n",
        "medianat=np.median(dtest)\n",
        "print('mediana = ',round(medianat))\n",
        "desvt=np.std(dtest)\n",
        "print('desviacion_tipica',round(desvt))\n",
        "minimot=np.min(dtest)\n",
        "maximot=np.max(dtest)\n",
        "print('rango entre ',minimot, 'y' ,maximot)\n",
        "\n",
        "dftest=pd.DataFrame(dtest)\n",
        "dftestclabels=pd.DataFrame(dtestclabels)"
      ],
      "metadata": {
        "id": "dQHDHlB4eqru",
        "colab": {
          "base_uri": "https://localhost:8080/"
        },
        "outputId": "a53a3a68-726e-4849-c1b9-0bed9d621e80"
      },
      "execution_count": 27,
      "outputs": [
        {
          "output_type": "stream",
          "name": "stdout",
          "text": [
            "datos del conjunto de prueba\n",
            "media =  122\n",
            "mediana =  117\n",
            "desviacion_tipica 69\n",
            "rango entre  0 y 255\n"
          ]
        }
      ]
    },
    {
      "cell_type": "markdown",
      "source": [
        "Numero de fotos del Test"
      ],
      "metadata": {
        "id": "umpNDVXyskLK"
      }
    },
    {
      "cell_type": "code",
      "source": [
        "numfotost=len(dftest)\n",
        "print('numero de fotos en test= ',numfotost)"
      ],
      "metadata": {
        "id": "Igb-2UWlqn1D",
        "colab": {
          "base_uri": "https://localhost:8080/"
        },
        "outputId": "b1247f91-094f-4fde-d9d8-25058df14cdf"
      },
      "execution_count": 28,
      "outputs": [
        {
          "output_type": "stream",
          "name": "stdout",
          "text": [
            "numero de fotos en test=  10000\n"
          ]
        }
      ]
    },
    {
      "cell_type": "markdown",
      "source": [
        "tamaño del Test en Bytes"
      ],
      "metadata": {
        "id": "Uqy3yiJwqw51"
      }
    },
    {
      "cell_type": "code",
      "source": [
        "pesofotost=os.stat('test').st_size"
      ],
      "metadata": {
        "id": "G7rw-mXIqxPY"
      },
      "execution_count": 29,
      "outputs": []
    },
    {
      "cell_type": "markdown",
      "source": [
        "lo mismo en MB (¡solo 30 MB!)"
      ],
      "metadata": {
        "id": "DZD3N2gaq4V0"
      }
    },
    {
      "cell_type": "code",
      "source": [
        "mbfotostest=pesofotost/(1024*1024)\n",
        "print('MB ocupados = ',round(mbfotostest,0))"
      ],
      "metadata": {
        "id": "iCKHO8Qwq_c1",
        "colab": {
          "base_uri": "https://localhost:8080/"
        },
        "outputId": "5c5b57b5-e7e5-4001-c243-e0f8d8261bdb"
      },
      "execution_count": 30,
      "outputs": [
        {
          "output_type": "stream",
          "name": "stdout",
          "text": [
            "MB ocupados =  30.0\n"
          ]
        }
      ]
    },
    {
      "cell_type": "markdown",
      "source": [
        "sabemos así lo que ocupa el fichero en su conjunto. Ahora veamos una foto promedio para multiplicarla por el numero de fotos del test y pasarla despues a MB"
      ],
      "metadata": {
        "id": "Nn2JrrT_f0xZ"
      }
    },
    {
      "cell_type": "code",
      "source": [
        "pesofotot=os.stat('cattle.jpg').st_size/(1024^2)\n",
        "print(round(pesofotot,2),'MB')"
      ],
      "metadata": {
        "id": "aVwFqFXVpt0g",
        "colab": {
          "base_uri": "https://localhost:8080/"
        },
        "outputId": "0d3e4cfe-3156-4c9d-c0a4-5cdad5b6bf7c"
      },
      "execution_count": 31,
      "outputs": [
        {
          "output_type": "stream",
          "name": "stdout",
          "text": [
            "14.01 MB\n"
          ]
        }
      ]
    },
    {
      "cell_type": "markdown",
      "source": [
        "promedio del peso de una foto x numero de fotos del train"
      ],
      "metadata": {
        "id": "f2Eivp1dqBau"
      }
    },
    {
      "cell_type": "code",
      "source": [
        "pesotest=pesofotot*len(dtest)"
      ],
      "metadata": {
        "id": "fdNdz1ACqD53"
      },
      "execution_count": 32,
      "outputs": []
    },
    {
      "cell_type": "markdown",
      "source": [
        "la diferencia si contuvieran JPG:"
      ],
      "metadata": {
        "id": "rI7MT531qH8a"
      }
    },
    {
      "cell_type": "code",
      "source": [
        "diferenciaMBt=pesotest-mbfotostest\n",
        "print(round(diferenciaMBt,0),'MB')"
      ],
      "metadata": {
        "id": "8h8VhXfFqMMM",
        "colab": {
          "base_uri": "https://localhost:8080/"
        },
        "outputId": "b543bcec-1e42-4756-b898-1f6791b35d12"
      },
      "execution_count": 33,
      "outputs": [
        {
          "output_type": "stream",
          "name": "stdout",
          "text": [
            "140048.0 MB\n"
          ]
        }
      ]
    },
    {
      "cell_type": "markdown",
      "source": [
        "3 categorias elegidas al azar"
      ],
      "metadata": {
        "id": "6LM1uZhKT_dF"
      }
    },
    {
      "cell_type": "code",
      "source": [
        "random.seed(0)\n",
        "cat3=sample(dtrainclabels,3)\n",
        "print(dataMeta[b'coarse_label_names'][cat3[0]],'foto',cat3[0])\n",
        "print(dataMeta[b'coarse_label_names'][cat3[1]],'foto',cat3[1])\n",
        "print(dataMeta[b'coarse_label_names'][cat3[2]],'foto',cat3[2])"
      ],
      "metadata": {
        "id": "ydDzXtErsz3-",
        "colab": {
          "base_uri": "https://localhost:8080/"
        },
        "outputId": "af18fc04-0060-41c5-cf4e-e0c25cba3ad5"
      },
      "execution_count": 34,
      "outputs": [
        {
          "output_type": "stream",
          "name": "stdout",
          "text": [
            "b'large_man-made_outdoor_things' foto 9\n",
            "b'reptiles' foto 15\n",
            "b'small_mammals' foto 16\n"
          ]
        }
      ]
    },
    {
      "cell_type": "markdown",
      "source": [
        "probamos con las mismas entidades"
      ],
      "metadata": {
        "id": "jSHBiTews4mV"
      }
    },
    {
      "cell_type": "markdown",
      "source": [
        "utilizamos el mismo set de datos de train dftrain y dftrainclabels \n",
        "que corresponden a los mismos dtrain y dtrainclabels, pero\n",
        "acondicionados para usar con dataframes de Pandas"
      ],
      "metadata": {
        "id": "1GnYjDz5tdga"
      }
    },
    {
      "cell_type": "code",
      "source": [
        "kk=9"
      ],
      "metadata": {
        "id": "Y9AnDbeftnVS"
      },
      "execution_count": 35,
      "outputs": []
    },
    {
      "cell_type": "markdown",
      "source": [
        "creamos un data frame de las entidades que estan en las categorias elegidas y visualizamos los primeros 10 valores para chekear que incluyen las 3 categorias\n"
      ],
      "metadata": {
        "id": "jkvKavnztuK4"
      }
    },
    {
      "cell_type": "code",
      "source": [
        "trainclabelsbol=dftrainclabels.isin(cat3)==True\n",
        "train3=dftrainclabels[trainclabelsbol].dropna().astype(int)\n",
        "print(train3[0:9])"
      ],
      "metadata": {
        "id": "YUumRT60twyh",
        "colab": {
          "base_uri": "https://localhost:8080/"
        },
        "outputId": "df59efc9-a727-4951-a44d-69ce9cdbe9dd"
      },
      "execution_count": 36,
      "outputs": [
        {
          "output_type": "stream",
          "name": "stdout",
          "text": [
            "     0\n",
            "1   15\n",
            "13   9\n",
            "18  16\n",
            "20  16\n",
            "31   9\n",
            "33  16\n",
            "40  15\n",
            "45   9\n",
            "49  15\n"
          ]
        }
      ]
    },
    {
      "cell_type": "markdown",
      "source": [
        "lo mismo con las de prueba"
      ],
      "metadata": {
        "id": "sFJGLBSPt3SZ"
      }
    },
    {
      "cell_type": "code",
      "source": [
        "testclabelsbol=dftestclabels.isin(cat3)==True\n",
        "test3=dftestclabels[testclabelsbol].dropna().astype(int)\n",
        "print(test3[0:9])"
      ],
      "metadata": {
        "id": "idkYpDmit7Hp",
        "colab": {
          "base_uri": "https://localhost:8080/"
        },
        "outputId": "2ef0484d-f57d-4e7e-c9cf-f7b809bcc569"
      },
      "execution_count": 37,
      "outputs": [
        {
          "output_type": "stream",
          "name": "stdout",
          "text": [
            "     0\n",
            "23  15\n",
            "33  15\n",
            "39   9\n",
            "49   9\n",
            "61  15\n",
            "63  16\n",
            "81  15\n",
            "84  15\n",
            "86  15\n"
          ]
        }
      ]
    },
    {
      "cell_type": "markdown",
      "source": [
        "construiremos la tabla del subset de 7500 entidades de las 3 categorias"
      ],
      "metadata": {
        "id": "fftlF5nYuBF9"
      }
    },
    {
      "cell_type": "code",
      "source": [
        "XX=pd.concat([dftrain,train3], axis=1, join=\"inner\")\n",
        "X=XX.iloc[: , :-1]\n",
        "print(X[0:9])\n",
        "print(X.shape)\n",
        "y = train3[0]\n",
        "print(y.shape)"
      ],
      "metadata": {
        "id": "Q92D8wxdsV0j",
        "colab": {
          "base_uri": "https://localhost:8080/"
        },
        "outputId": "c0011ea8-d6fa-447e-d1ce-610bd3e6c8b7"
      },
      "execution_count": 38,
      "outputs": [
        {
          "output_type": "stream",
          "name": "stdout",
          "text": [
            "    0     1     2     3     4     5     6     7     8     9     ...  3062  \\\n",
            "1    255   253   253   253   253   253   253   253   253   253  ...   253   \n",
            "13   253   251   252   252   252   252   252   251   251   251  ...   139   \n",
            "18    71    46    74    80    86    93    78    93    89    84  ...   105   \n",
            "20   156   151   158   155   157   158   154   158   163   158  ...   147   \n",
            "31   252   251   252   252   251   252   252   252   252   252  ...    50   \n",
            "33    30    21    30    38    49    50    35    30    31    26  ...    99   \n",
            "40    48    57    52    37    36    35    51    49    51    56  ...   204   \n",
            "45    58    64    70    70    68    66    65    65    68    70  ...    20   \n",
            "49     3    45    59    37    37    51    43    48    68    54  ...   160   \n",
            "\n",
            "    3063  3064  3065  3066  3067  3068  3069  3070  3071  \n",
            "1    253   253   253   253   253   253   253   253   255  \n",
            "13   142   140   141   141   139   139   139   137   133  \n",
            "18    84    66    67    76    89    77    89    82    80  \n",
            "20   151   142   139   154   133   131   143   139   132  \n",
            "31    44    48    89    79    59    55    65    71    77  \n",
            "33   103   103   101    77    19     4     6     5     7  \n",
            "40   168   187   190   184   182   186   198   188   182  \n",
            "45    26    30    28    21    26    23    21    21    23  \n",
            "49   152   129   110   125   122   107   106   100   111  \n",
            "\n",
            "[9 rows x 3072 columns]\n",
            "(7500, 3072)\n",
            "(7500,)\n"
          ]
        }
      ]
    },
    {
      "cell_type": "markdown",
      "source": [
        "asi tenemos los datos donde aplicar los métodos Machine Learning al sample"
      ],
      "metadata": {
        "id": "s_KWZL0DupuX"
      }
    },
    {
      "cell_type": "markdown",
      "source": [
        "Ahora vamos a crear los entornos de entrenamiento y prueba"
      ],
      "metadata": {
        "id": "Q4cqUh9CVi_h"
      }
    },
    {
      "cell_type": "code",
      "source": [
        "X_train,X_test,y_train,y_test = train_test_split(X,y.values.reshape(-1,1),\n",
        "                                train_size = 0.8,random_state = 123,\n",
        "                                shuffle = True)\n"
      ],
      "metadata": {
        "id": "x35cJZaoVoiT"
      },
      "execution_count": 40,
      "outputs": []
    },
    {
      "cell_type": "markdown",
      "source": [
        "Support Vector Machine: datos linealmente separables por un hiperplano\n"
      ],
      "metadata": {
        "id": "QCUyAl7avKT-"
      }
    },
    {
      "cell_type": "markdown",
      "source": [
        "entrenamos"
      ],
      "metadata": {
        "id": "lgDRQT6NvP-p"
      }
    },
    {
      "cell_type": "code",
      "source": [
        "svmclass = svm.SVC(C = 100, kernel = 'linear', random_state=123)\n",
        "svmclass.fit(X_train,y_train)"
      ],
      "metadata": {
        "id": "yzynyTBdvh49",
        "colab": {
          "base_uri": "https://localhost:8080/"
        },
        "outputId": "02878d79-1ba7-4950-c83b-97b52d6dcfe6"
      },
      "execution_count": 41,
      "outputs": [
        {
          "output_type": "stream",
          "name": "stderr",
          "text": [
            "/usr/local/lib/python3.8/dist-packages/sklearn/utils/validation.py:993: DataConversionWarning: A column-vector y was passed when a 1d array was expected. Please change the shape of y to (n_samples, ), for example using ravel().\n",
            "  y = column_or_1d(y, warn=True)\n"
          ]
        },
        {
          "output_type": "execute_result",
          "data": {
            "text/plain": [
              "SVC(C=100, kernel='linear', random_state=123)"
            ]
          },
          "metadata": {},
          "execution_count": 41
        }
      ]
    },
    {
      "cell_type": "markdown",
      "source": [
        "predecimos con datos de test"
      ],
      "metadata": {
        "id": "PFIyBnSUvjhE"
      }
    },
    {
      "cell_type": "code",
      "source": [
        "predsvm=svmclass.predict(X_test)"
      ],
      "metadata": {
        "id": "DkB2hzG-vraD"
      },
      "execution_count": 42,
      "outputs": []
    },
    {
      "cell_type": "markdown",
      "source": [
        "matriz de confusion (correctamente clasificados, falsos+, falsos-)\n"
      ],
      "metadata": {
        "id": "yQwYf_Qqvrsz"
      }
    },
    {
      "cell_type": "code",
      "source": [
        "cmsvm=confusion_matrix(y_test,predsvm)\n",
        "print(cmsvm)"
      ],
      "metadata": {
        "id": "NAu8KvwMvzW2",
        "colab": {
          "base_uri": "https://localhost:8080/"
        },
        "outputId": "c0064e36-3bad-48a0-e652-ab9a3616107a"
      },
      "execution_count": 43,
      "outputs": [
        {
          "output_type": "stream",
          "name": "stdout",
          "text": [
            "[[370  79  49]\n",
            " [122 190 194]\n",
            " [ 93 163 240]]\n"
          ]
        }
      ]
    },
    {
      "cell_type": "markdown",
      "source": [
        "report estandar de SVMreport estandar de SVM"
      ],
      "metadata": {
        "id": "yI3li6cEv3QH"
      }
    },
    {
      "cell_type": "code",
      "source": [
        "svmacc=metrics.accuracy_score(y_test,predsvm)\n",
        "svmreport=classification_report(y_test,predsvm)\n",
        "print(svmreport)\n",
        "print('Correctamente Clasificados:',round(svmacc,1))"
      ],
      "metadata": {
        "id": "KKtimMl2v-IJ",
        "colab": {
          "base_uri": "https://localhost:8080/"
        },
        "outputId": "2f533a1e-d2d8-481b-e670-0deaa8805a9d"
      },
      "execution_count": 44,
      "outputs": [
        {
          "output_type": "stream",
          "name": "stdout",
          "text": [
            "              precision    recall  f1-score   support\n",
            "\n",
            "           9       0.63      0.74      0.68       498\n",
            "          15       0.44      0.38      0.41       506\n",
            "          16       0.50      0.48      0.49       496\n",
            "\n",
            "    accuracy                           0.53      1500\n",
            "   macro avg       0.52      0.53      0.53      1500\n",
            "weighted avg       0.52      0.53      0.53      1500\n",
            "\n",
            "Correctamente Clasificados: 0.5\n"
          ]
        }
      ]
    },
    {
      "cell_type": "markdown",
      "source": [
        "Random Forest"
      ],
      "metadata": {
        "id": "LRv8r_yzwCjw"
      }
    },
    {
      "cell_type": "markdown",
      "source": [
        "entrenamos:"
      ],
      "metadata": {
        "id": "POQQ-5dOwLdo"
      }
    },
    {
      "cell_type": "code",
      "source": [
        "rfclass=RandomForestClassifier(random_state=0)\n",
        "rfclass.fit(X_train,y_train)"
      ],
      "metadata": {
        "id": "hHGq4387wH08",
        "colab": {
          "base_uri": "https://localhost:8080/"
        },
        "outputId": "b8402a14-d02c-46b8-d6d2-1c1745b00e99"
      },
      "execution_count": 45,
      "outputs": [
        {
          "output_type": "stream",
          "name": "stderr",
          "text": [
            "<ipython-input-45-fa093eabf9d1>:2: DataConversionWarning: A column-vector y was passed when a 1d array was expected. Please change the shape of y to (n_samples,), for example using ravel().\n",
            "  rfclass.fit(X_train,y_train)\n"
          ]
        },
        {
          "output_type": "execute_result",
          "data": {
            "text/plain": [
              "RandomForestClassifier(random_state=0)"
            ]
          },
          "metadata": {},
          "execution_count": 45
        }
      ]
    },
    {
      "cell_type": "markdown",
      "source": [
        "predecimos:"
      ],
      "metadata": {
        "id": "4dIUXyB_wRcI"
      }
    },
    {
      "cell_type": "code",
      "source": [
        "predrf=rfclass.predict(X_test)"
      ],
      "metadata": {
        "id": "anitl8newUwi"
      },
      "execution_count": 46,
      "outputs": []
    },
    {
      "cell_type": "markdown",
      "source": [
        "matriz de confusion"
      ],
      "metadata": {
        "id": "lrXOeffGwamR"
      }
    },
    {
      "cell_type": "code",
      "source": [
        "cmrf=confusion_matrix(y_test,predrf)\n",
        "print(cmrf)"
      ],
      "metadata": {
        "id": "4Z9LUOsnwftD",
        "colab": {
          "base_uri": "https://localhost:8080/"
        },
        "outputId": "c0de25f0-73f8-4451-9793-107a34bf17dc"
      },
      "execution_count": 47,
      "outputs": [
        {
          "output_type": "stream",
          "name": "stdout",
          "text": [
            "[[409  50  39]\n",
            " [ 48 293 165]\n",
            " [ 36 135 325]]\n"
          ]
        }
      ]
    },
    {
      "cell_type": "markdown",
      "source": [
        "report estandar de RF"
      ],
      "metadata": {
        "id": "wxqNLf8nwlAW"
      }
    },
    {
      "cell_type": "code",
      "source": [
        "rfacc=metrics.accuracy_score(y_test,predrf)\n",
        "rfreport=classification_report(y_test,predrf)\n",
        "print(rfreport)\n",
        "print('Correctamente Clasificados:',round(rfacc,1))"
      ],
      "metadata": {
        "id": "8w1CfnbVwq5O",
        "colab": {
          "base_uri": "https://localhost:8080/"
        },
        "outputId": "1b56d470-ad5f-4b3e-c477-07b345615c56"
      },
      "execution_count": 48,
      "outputs": [
        {
          "output_type": "stream",
          "name": "stdout",
          "text": [
            "              precision    recall  f1-score   support\n",
            "\n",
            "           9       0.83      0.82      0.83       498\n",
            "          15       0.61      0.58      0.60       506\n",
            "          16       0.61      0.66      0.63       496\n",
            "\n",
            "    accuracy                           0.68      1500\n",
            "   macro avg       0.69      0.69      0.69      1500\n",
            "weighted avg       0.69      0.68      0.68      1500\n",
            "\n",
            "Correctamente Clasificados: 0.7\n"
          ]
        }
      ]
    },
    {
      "cell_type": "markdown",
      "source": [
        "K Neighbors Classifier"
      ],
      "metadata": {
        "id": "8aFxLd_pxMG-"
      }
    },
    {
      "cell_type": "markdown",
      "source": [
        "Debemos elegir un numero de vecinos para ver cual es el mejor (entre 1 y 10) \n"
      ],
      "metadata": {
        "id": "eMrJgE0HxP74"
      }
    },
    {
      "cell_type": "markdown",
      "source": [
        "Probamos con todos los valores y entre el 7 y el 9 se obtienen los mejores resultados"
      ],
      "metadata": {
        "id": "aDnn0ZpXyZ4O"
      }
    },
    {
      "cell_type": "markdown",
      "source": [
        "entrenamos:"
      ],
      "metadata": {
        "id": "Ud0TMzKuxXLu"
      }
    },
    {
      "cell_type": "code",
      "source": [
        "k=9\n",
        "\n",
        "nbclass=KNeighborsClassifier(n_neighbors=k) \n",
        "nbclass.fit(X_train,y_train)"
      ],
      "metadata": {
        "id": "atwaqRj8xZxr",
        "colab": {
          "base_uri": "https://localhost:8080/"
        },
        "outputId": "e3f207b7-5377-419e-ecb9-b8482671d7d8"
      },
      "execution_count": 108,
      "outputs": [
        {
          "output_type": "stream",
          "name": "stderr",
          "text": [
            "/usr/local/lib/python3.8/dist-packages/sklearn/neighbors/_classification.py:198: DataConversionWarning: A column-vector y was passed when a 1d array was expected. Please change the shape of y to (n_samples,), for example using ravel().\n",
            "  return self._fit(X, y)\n"
          ]
        },
        {
          "output_type": "execute_result",
          "data": {
            "text/plain": [
              "KNeighborsClassifier(n_neighbors=9)"
            ]
          },
          "metadata": {},
          "execution_count": 108
        }
      ]
    },
    {
      "cell_type": "markdown",
      "source": [
        "predecimos"
      ],
      "metadata": {
        "id": "l2S7DhGHxeHI"
      }
    },
    {
      "cell_type": "code",
      "source": [
        "prednc=nbclass.predict(X_test)"
      ],
      "metadata": {
        "id": "VkpMQpjYxgnR"
      },
      "execution_count": 109,
      "outputs": []
    },
    {
      "cell_type": "markdown",
      "source": [
        "matriz de confusion"
      ],
      "metadata": {
        "id": "hf3HZaixxmmw"
      }
    },
    {
      "cell_type": "code",
      "source": [
        "cmnb=confusion_matrix(y_test,prednc)\n",
        "print(cmnb)"
      ],
      "metadata": {
        "id": "vxLP-_rtxqpw",
        "colab": {
          "base_uri": "https://localhost:8080/"
        },
        "outputId": "6ddbe2d2-7b04-4d1e-d469-dfdec06bee17"
      },
      "execution_count": 110,
      "outputs": [
        {
          "output_type": "stream",
          "name": "stdout",
          "text": [
            "[[390  67  41]\n",
            " [ 37 337 132]\n",
            " [ 22 226 248]]\n"
          ]
        }
      ]
    },
    {
      "cell_type": "markdown",
      "source": [
        "report estandar de NC"
      ],
      "metadata": {
        "id": "OTDFU6fuxv-v"
      }
    },
    {
      "cell_type": "code",
      "source": [
        "ncacc=metrics.accuracy_score(y_test,prednc)\n",
        "ncreport=classification_report(y_test,prednc)\n",
        "print(ncreport)\n",
        "print('Correctamente Clasificados:',round(ncacc,1))"
      ],
      "metadata": {
        "id": "ITFCBc9ax3I-",
        "colab": {
          "base_uri": "https://localhost:8080/"
        },
        "outputId": "4b0d75d8-44c7-4e71-8385-ce2434036ed6"
      },
      "execution_count": 111,
      "outputs": [
        {
          "output_type": "stream",
          "name": "stdout",
          "text": [
            "              precision    recall  f1-score   support\n",
            "\n",
            "           9       0.87      0.78      0.82       498\n",
            "          15       0.53      0.67      0.59       506\n",
            "          16       0.59      0.50      0.54       496\n",
            "\n",
            "    accuracy                           0.65      1500\n",
            "   macro avg       0.66      0.65      0.65      1500\n",
            "weighted avg       0.66      0.65      0.65      1500\n",
            "\n",
            "Correctamente Clasificados: 0.6\n"
          ]
        }
      ]
    },
    {
      "cell_type": "markdown",
      "source": [
        "compararemos los 3 métodos por %correctamente clasificados, falsos+ y falsos-\n",
        "\n"
      ],
      "metadata": {
        "id": "uFJAG_AUvV57"
      }
    },
    {
      "cell_type": "code",
      "source": [
        "print('                          Vector Machines','Random Forest','K Neighbors' )\n",
        "print('Correctamente clasificados','    ',round(svmacc,2),'        ',round(rfacc,2),'        ',round(ncacc,2))\n"
      ],
      "metadata": {
        "colab": {
          "base_uri": "https://localhost:8080/"
        },
        "id": "qF3pXkxWwX-6",
        "outputId": "08602a2a-f700-4c1a-b54f-486b04a6d15f"
      },
      "execution_count": 112,
      "outputs": [
        {
          "output_type": "stream",
          "name": "stdout",
          "text": [
            "                          Vector Machines Random Forest K Neighbors\n",
            "Correctamente clasificados      0.53          0.68          0.65\n"
          ]
        }
      ]
    }
  ]
}