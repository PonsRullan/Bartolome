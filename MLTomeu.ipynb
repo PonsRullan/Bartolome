{
  "cells": [
    {
      "cell_type": "markdown",
      "metadata": {
        "id": "view-in-github",
        "colab_type": "text"
      },
      "source": [
        "<a href=\"https://colab.research.google.com/github/PonsRullan/Bartolome/blob/main/MLTomeu.ipynb\" target=\"_parent\"><img src=\"https://colab.research.google.com/assets/colab-badge.svg\" alt=\"Open In Colab\"/></a>"
      ]
    },
    {
      "cell_type": "markdown",
      "metadata": {
        "id": "uWLew-MfX80t"
      },
      "source": [
        "# Trabajo final de asignatura"
      ]
    },
    {
      "cell_type": "markdown",
      "metadata": {
        "id": "YcOxTx93Rsin"
      },
      "source": [
        "Bartolome Pons Rullan"
      ]
    },
    {
      "cell_type": "markdown",
      "metadata": {
        "id": "Fjyp11TgVIqb"
      },
      "source": [
        "\n",
        "El objetivo de la prática consiste en clasificar y evaluar diferentes \n",
        "algoritmos de clasificación de ML.\n",
        "Los datos son imágenes de escasa resolución de objetos reales \n",
        "(por ejemplo: un oso, un avión, un tren, etc.) que pertenecen a una categoría\n",
        "(p.ej. mamíferos, vehículos, etc.). Los datos están separados en tres ficheros:\n",
        "- fichero *meta*: dispone de información descriptiva de las etiquetas usadas\n",
        "- fichero *train*: los datos de entreno\n",
        "- fichero *test*: los datos para la evaluación.\n",
        "Estos tres ficheros se proporcionan en formato binario por su elevado tamaño.\n",
        "\n",
        "Se pide:\n",
        "- 1. Analiza con mayor detalle la dimensionalidad de los datos. Contesta a: \n",
        "    ¿cuántos MB ocuparían los ficheros **train** y **test** si las imágenes \n",
        "    que contienen estuvieran en formato jpg?\n",
        "- 2. Selecciona datos para entrenar un modelo de clasificación usando la \n",
        "    librería sklearn con tan solo las entidades de tres categorías elegidas al azar por el sistema.\n",
        "- 3. Aplica, configura y analiza los resultados tras aplicar los siguientes \n",
        "    algoritmos de clasificación sobre los datos seleccionados previamente:\n",
        "  - Support Vector Machine\n",
        "  - Random Forest Classifier\n",
        "  - K Neighbors Classifier\n",
        "- 4. Compara los resultados de los tres algoritmos.\n"
      ]
    },
    {
      "cell_type": "markdown",
      "metadata": {
        "id": "1xjZkGNIRJLR"
      },
      "source": [
        "Created on Mon Feb 13 15:01:14 2023"
      ]
    },
    {
      "cell_type": "code",
      "execution_count": 42,
      "metadata": {
        "colab": {
          "base_uri": "https://localhost:8080/"
        },
        "id": "dbsMzVCw1yy8",
        "outputId": "c31cc46a-bb6d-468f-9d9f-fb92ad27f07a"
      },
      "outputs": [
        {
          "output_type": "stream",
          "name": "stdout",
          "text": [
            "absl-py==1.4.0\n",
            "aeppl==0.0.33\n",
            "aesara==2.7.9\n",
            "aiohttp==3.8.4\n",
            "aiosignal==1.3.1\n",
            "alabaster==0.7.13\n",
            "albumentations==1.2.1\n",
            "altair==4.2.2\n",
            "appdirs==1.4.4\n",
            "argon2-cffi==21.3.0\n",
            "argon2-cffi-bindings==21.2.0\n",
            "arviz==0.12.1\n",
            "astor==0.8.1\n",
            "astropy==4.3.1\n",
            "astunparse==1.6.3\n",
            "async-timeout==4.0.2\n",
            "atari-py==0.2.9\n",
            "atomicwrites==1.4.1\n",
            "attrs==22.2.0\n",
            "audioread==3.0.0\n",
            "autograd==1.5\n",
            "Babel==2.11.0\n",
            "backcall==0.2.0\n",
            "beautifulsoup4==4.6.3\n",
            "bleach==6.0.0\n",
            "blis==0.7.9\n",
            "bokeh==2.3.3\n",
            "branca==0.6.0\n",
            "bs4==0.0.1\n",
            "CacheControl==0.12.11\n",
            "cachetools==5.3.0\n",
            "catalogue==2.0.8\n",
            "certifi==2022.12.7\n",
            "cffi==1.15.1\n",
            "cftime==1.6.2\n",
            "chardet==4.0.0\n",
            "charset-normalizer==3.0.1\n",
            "click==7.1.2\n",
            "clikit==0.6.2\n",
            "cloudpickle==2.2.1\n",
            "cmake==3.22.6\n",
            "cmdstanpy==1.1.0\n",
            "colorcet==3.0.1\n",
            "colorlover==0.3.0\n",
            "community==1.0.0b1\n",
            "confection==0.0.4\n",
            "cons==0.4.5\n",
            "contextlib2==0.5.5\n",
            "convertdate==2.4.0\n",
            "crashtest==0.3.1\n",
            "crcmod==1.7\n",
            "cufflinks==0.17.3\n",
            "cvxopt==1.3.0\n",
            "cvxpy==1.2.3\n",
            "cycler==0.11.0\n",
            "cymem==2.0.7\n",
            "Cython==0.29.33\n",
            "daft==0.0.4\n",
            "dask==2022.2.1\n",
            "datascience==0.17.5\n",
            "db-dtypes==1.0.5\n",
            "dbus-python==1.2.16\n",
            "debugpy==1.0.0\n",
            "decorator==4.4.2\n",
            "defusedxml==0.7.1\n",
            "descartes==1.1.0\n",
            "dill==0.3.6\n",
            "distributed==2022.2.1\n",
            "dlib==19.24.0\n",
            "dm-tree==0.1.8\n",
            "dnspython==2.3.0\n",
            "docutils==0.16\n",
            "dopamine-rl==1.0.5\n",
            "earthengine-api==0.1.341\n",
            "easydict==1.10\n",
            "ecos==2.0.12\n",
            "editdistance==0.5.3\n",
            "en-core-web-sm @ https://github.com/explosion/spacy-models/releases/download/en_core_web_sm-3.4.1/en_core_web_sm-3.4.1-py3-none-any.whl\n",
            "entrypoints==0.4\n",
            "ephem==4.1.4\n",
            "et-xmlfile==1.1.0\n",
            "etils==1.0.0\n",
            "etuples==0.3.8\n",
            "fa2==0.3.5\n",
            "fastai==2.7.11\n",
            "fastcore==1.5.28\n",
            "fastdownload==0.0.7\n",
            "fastdtw==0.3.4\n",
            "fastjsonschema==2.16.2\n",
            "fastprogress==1.0.3\n",
            "fastrlock==0.8.1\n",
            "feather-format==0.4.1\n",
            "filelock==3.9.0\n",
            "firebase-admin==5.3.0\n",
            "fix-yahoo-finance==0.0.22\n",
            "Flask==1.1.4\n",
            "flatbuffers==23.1.21\n",
            "folium==0.12.1.post1\n",
            "fonttools==4.38.0\n",
            "frozenlist==1.3.3\n",
            "fsspec==2023.1.0\n",
            "future==0.16.0\n",
            "gast==0.4.0\n",
            "GDAL==3.3.2\n",
            "gdown==4.4.0\n",
            "gensim==3.6.0\n",
            "geographiclib==1.52\n",
            "geopy==1.17.0\n",
            "gin-config==0.5.0\n",
            "glob2==0.7\n",
            "google==2.0.3\n",
            "google-api-core==2.11.0\n",
            "google-api-python-client==2.70.0\n",
            "google-auth==2.16.1\n",
            "google-auth-httplib2==0.1.0\n",
            "google-auth-oauthlib==0.4.6\n",
            "google-cloud-bigquery==3.4.2\n",
            "google-cloud-bigquery-storage==2.18.1\n",
            "google-cloud-core==2.3.2\n",
            "google-cloud-datastore==2.11.1\n",
            "google-cloud-firestore==2.7.3\n",
            "google-cloud-language==2.6.1\n",
            "google-cloud-storage==2.7.0\n",
            "google-cloud-translate==3.8.4\n",
            "google-colab @ file:///colabtools/dist/google-colab-1.0.0.tar.gz\n",
            "google-crc32c==1.5.0\n",
            "google-pasta==0.2.0\n",
            "google-resumable-media==2.4.1\n",
            "googleapis-common-protos==1.58.0\n",
            "googledrivedownloader==0.4\n",
            "graphviz==0.10.1\n",
            "greenlet==2.0.2\n",
            "grpcio==1.51.1\n",
            "grpcio-status==1.48.2\n",
            "gspread==3.4.2\n",
            "gspread-dataframe==3.0.8\n",
            "gym==0.25.2\n",
            "gym-notices==0.0.8\n",
            "h5py==3.1.0\n",
            "HeapDict==1.0.1\n",
            "hijri-converter==2.2.4\n",
            "holidays==0.19\n",
            "holoviews==1.14.9\n",
            "html5lib==1.0.1\n",
            "httpimport==0.5.18\n",
            "httplib2==0.17.4\n",
            "httpstan==4.6.1\n",
            "humanize==0.5.1\n",
            "hyperopt==0.1.2\n",
            "idna==2.10\n",
            "imageio==2.9.0\n",
            "imagesize==1.4.1\n",
            "imbalanced-learn==0.8.1\n",
            "imblearn==0.0\n",
            "imgaug==0.4.0\n",
            "importlib-metadata==6.0.0\n",
            "importlib-resources==5.12.0\n",
            "imutils==0.5.4\n",
            "inflect==2.1.0\n",
            "intel-openmp==2023.0.0\n",
            "intervaltree==2.1.0\n",
            "ipykernel==5.3.4\n",
            "ipython==7.9.0\n",
            "ipython-genutils==0.2.0\n",
            "ipython-sql==0.3.9\n",
            "ipywidgets==7.7.1\n",
            "itsdangerous==1.1.0\n",
            "jax==0.3.25\n",
            "jaxlib @ https://storage.googleapis.com/jax-releases/cuda11/jaxlib-0.3.25+cuda11.cudnn805-cp38-cp38-manylinux2014_x86_64.whl\n",
            "jieba==0.42.1\n",
            "Jinja2==2.11.3\n",
            "joblib==1.2.0\n",
            "jpeg4py==0.1.4\n",
            "jsonschema==4.3.3\n",
            "jupyter-client==6.1.12\n",
            "jupyter-console==6.1.0\n",
            "jupyter_core==5.2.0\n",
            "jupyterlab-widgets==3.0.5\n",
            "kaggle==1.5.12\n",
            "kapre==0.3.7\n",
            "keras==2.11.0\n",
            "keras-vis==0.4.1\n",
            "kiwisolver==1.4.4\n",
            "korean-lunar-calendar==0.3.1\n",
            "langcodes==3.3.0\n",
            "libclang==15.0.6.1\n",
            "librosa==0.8.1\n",
            "lightgbm==2.2.3\n",
            "llvmlite==0.39.1\n",
            "lmdb==0.99\n",
            "locket==1.0.0\n",
            "logical-unification==0.4.5\n",
            "LunarCalendar==0.0.9\n",
            "lxml==4.9.2\n",
            "Markdown==3.4.1\n",
            "MarkupSafe==2.0.1\n",
            "marshmallow==3.19.0\n",
            "matplotlib==3.5.3\n",
            "matplotlib-venn==0.11.7\n",
            "miniKanren==1.0.3\n",
            "missingno==0.5.1\n",
            "mistune==0.8.4\n",
            "mizani==0.7.3\n",
            "mkl==2019.0\n",
            "mlxtend==0.14.0\n",
            "more-itertools==9.0.0\n",
            "moviepy==0.2.3.5\n",
            "mpmath==1.2.1\n",
            "msgpack==1.0.4\n",
            "multidict==6.0.4\n",
            "multipledispatch==0.6.0\n",
            "multitasking==0.0.11\n",
            "murmurhash==1.0.9\n",
            "music21==5.5.0\n",
            "natsort==5.5.0\n",
            "nbconvert==5.6.1\n",
            "nbformat==5.7.3\n",
            "netCDF4==1.6.2\n",
            "networkx==3.0\n",
            "nibabel==3.0.2\n",
            "nltk==3.7\n",
            "notebook==6.3.0\n",
            "numba==0.56.4\n",
            "numexpr==2.8.4\n",
            "numpy==1.22.4\n",
            "oauth2client==4.1.3\n",
            "oauthlib==3.2.2\n",
            "okgrade==0.4.3\n",
            "opencv-contrib-python==4.6.0.66\n",
            "opencv-python==4.6.0.66\n",
            "opencv-python-headless==4.7.0.68\n",
            "openpyxl==3.0.10\n",
            "opt-einsum==3.3.0\n",
            "osqp==0.6.2.post0\n",
            "packaging==23.0\n",
            "palettable==3.3.0\n",
            "pandas==1.3.5\n",
            "pandas-datareader==0.9.0\n",
            "pandas-gbq==0.17.9\n",
            "pandas-profiling==1.4.1\n",
            "pandocfilters==1.5.0\n",
            "panel==0.12.1\n",
            "param==1.12.3\n",
            "parso==0.8.3\n",
            "partd==1.3.0\n",
            "pastel==0.2.1\n",
            "pathlib==1.0.1\n",
            "pathy==0.10.1\n",
            "patsy==0.5.3\n",
            "pep517==0.13.0\n",
            "pexpect==4.8.0\n",
            "pickleshare==0.7.5\n",
            "Pillow==7.1.2\n",
            "pip-tools==6.6.2\n",
            "platformdirs==3.0.0\n",
            "plotly==5.5.0\n",
            "plotnine==0.8.0\n",
            "pluggy==0.7.1\n",
            "pooch==1.6.0\n",
            "portpicker==1.3.9\n",
            "prefetch-generator==1.0.3\n",
            "preshed==3.0.8\n",
            "prettytable==3.6.0\n",
            "progressbar2==3.38.0\n",
            "prometheus-client==0.16.0\n",
            "promise==2.3\n",
            "prompt-toolkit==2.0.10\n",
            "prophet==1.1.2\n",
            "proto-plus==1.22.2\n",
            "protobuf==3.19.6\n",
            "psutil==5.4.8\n",
            "psycopg2==2.9.5\n",
            "ptyprocess==0.7.0\n",
            "py==1.11.0\n",
            "pyarrow==9.0.0\n",
            "pyasn1==0.4.8\n",
            "pyasn1-modules==0.2.8\n",
            "pycocotools==2.0.6\n",
            "pycparser==2.21\n",
            "pyct==0.5.0\n",
            "pydantic==1.10.5\n",
            "pydata-google-auth==1.7.0\n",
            "pydot==1.3.0\n",
            "pydot-ng==2.0.0\n",
            "pydotplus==2.0.2\n",
            "PyDrive==1.3.1\n",
            "pyemd==0.5.1\n",
            "pyerfa==2.0.0.1\n",
            "Pygments==2.6.1\n",
            "PyGObject==3.36.0\n",
            "pylev==1.4.0\n",
            "pymc==4.1.4\n",
            "PyMeeus==0.5.12\n",
            "pymongo==4.3.3\n",
            "pymystem3==0.2.0\n",
            "PyOpenGL==3.1.6\n",
            "pyparsing==3.0.9\n",
            "pyrsistent==0.19.3\n",
            "pysimdjson==3.2.0\n",
            "PySocks==1.7.1\n",
            "pystan==3.3.0\n",
            "pytest==3.6.4\n",
            "python-apt==2.0.1\n",
            "python-dateutil==2.8.2\n",
            "python-louvain==0.16\n",
            "python-slugify==8.0.0\n",
            "python-utils==3.5.2\n",
            "pytz==2022.7.1\n",
            "pyviz-comms==2.2.1\n",
            "PyWavelets==1.4.1\n",
            "PyYAML==6.0\n",
            "pyzmq==23.2.1\n",
            "qdldl==0.1.5.post3\n",
            "qudida==0.0.4\n",
            "regex==2022.6.2\n",
            "requests==2.25.1\n",
            "requests-oauthlib==1.3.1\n",
            "requests-unixsocket==0.2.0\n",
            "resampy==0.4.2\n",
            "rpy2==3.5.5\n",
            "rsa==4.9\n",
            "scikit-image==0.18.3\n",
            "scikit-learn==1.0.2\n",
            "scipy==1.7.3\n",
            "screen-resolution-extra==0.0.0\n",
            "scs==3.2.2\n",
            "seaborn==0.11.2\n",
            "Send2Trash==1.8.0\n",
            "shapely==2.0.1\n",
            "six==1.15.0\n",
            "sklearn-pandas==1.8.0\n",
            "smart-open==6.3.0\n",
            "snowballstemmer==2.2.0\n",
            "sortedcontainers==2.4.0\n",
            "soundfile==0.12.1\n",
            "spacy==3.4.4\n",
            "spacy-legacy==3.0.12\n",
            "spacy-loggers==1.0.4\n",
            "Sphinx==3.5.4\n",
            "sphinxcontrib-applehelp==1.0.4\n",
            "sphinxcontrib-devhelp==1.0.2\n",
            "sphinxcontrib-htmlhelp==2.0.1\n",
            "sphinxcontrib-jsmath==1.0.1\n",
            "sphinxcontrib-qthelp==1.0.3\n",
            "sphinxcontrib-serializinghtml==1.1.5\n",
            "SQLAlchemy==1.4.46\n",
            "sqlparse==0.4.3\n",
            "srsly==2.4.5\n",
            "statsmodels==0.12.2\n",
            "sympy==1.7.1\n",
            "tables==3.7.0\n",
            "tabulate==0.8.10\n",
            "tblib==1.7.0\n",
            "tenacity==8.2.1\n",
            "tensorboard==2.11.2\n",
            "tensorboard-data-server==0.6.1\n",
            "tensorboard-plugin-wit==1.8.1\n",
            "tensorflow==2.11.0\n",
            "tensorflow-datasets==4.8.2\n",
            "tensorflow-estimator==2.11.0\n",
            "tensorflow-gcs-config==2.11.0\n",
            "tensorflow-hub==0.12.0\n",
            "tensorflow-io-gcs-filesystem==0.30.0\n",
            "tensorflow-metadata==1.12.0\n",
            "tensorflow-probability==0.19.0\n",
            "termcolor==2.2.0\n",
            "terminado==0.13.3\n",
            "testpath==0.6.0\n",
            "text-unidecode==1.3\n",
            "textblob==0.15.3\n",
            "thinc==8.1.7\n",
            "threadpoolctl==3.1.0\n",
            "tifffile==2023.2.3\n",
            "toml==0.10.2\n",
            "tomli==2.0.1\n",
            "toolz==0.12.0\n",
            "torch @ https://download.pytorch.org/whl/cu116/torch-1.13.1%2Bcu116-cp38-cp38-linux_x86_64.whl\n",
            "torchaudio @ https://download.pytorch.org/whl/cu116/torchaudio-0.13.1%2Bcu116-cp38-cp38-linux_x86_64.whl\n",
            "torchsummary==1.5.1\n",
            "torchtext==0.14.1\n",
            "torchvision @ https://download.pytorch.org/whl/cu116/torchvision-0.14.1%2Bcu116-cp38-cp38-linux_x86_64.whl\n",
            "tornado==6.2\n",
            "tqdm==4.64.1\n",
            "traitlets==5.7.1\n",
            "tweepy==3.10.0\n",
            "typeguard==2.7.1\n",
            "typer==0.7.0\n",
            "typing_extensions==4.5.0\n",
            "tzlocal==1.5.1\n",
            "uritemplate==4.1.1\n",
            "urllib3==1.24.3\n",
            "vega-datasets==0.9.0\n",
            "wasabi==0.10.1\n",
            "wcwidth==0.2.6\n",
            "webargs==8.2.0\n",
            "webencodings==0.5.1\n",
            "Werkzeug==1.0.1\n",
            "widgetsnbextension==3.6.2\n",
            "wordcloud==1.8.2.2\n",
            "wrapt==1.14.1\n",
            "xarray==2022.12.0\n",
            "xarray-einstats==0.5.1\n",
            "xgboost==0.90\n",
            "xkit==0.0.0\n",
            "xlrd==1.2.0\n",
            "xlwt==1.3.0\n",
            "yarl==1.8.2\n",
            "yellowbrick==1.5\n",
            "zict==2.2.0\n",
            "zipp==3.14.0\n"
          ]
        }
      ],
      "source": [
        "%pip freeze"
      ]
    },
    {
      "cell_type": "markdown",
      "metadata": {
        "id": "27XVdlTuYNYI"
      },
      "source": [
        "#Vamos a cargar los paquetes que necesitaremos en el codigo"
      ]
    },
    {
      "cell_type": "code",
      "execution_count": 43,
      "metadata": {
        "id": "ktxd6NILUNKy"
      },
      "outputs": [],
      "source": [
        "import pandas as pd\n",
        "import pickle\n",
        "import numpy as np\n",
        "import matplotlib.pyplot as plt\n",
        "import random\n",
        "from random import sample\n",
        "import statistics as stat \n",
        "from statistics import mode\n",
        "import os\n",
        "from sklearn.pipeline import make_pipeline\n",
        "from sklearn.preprocessing import StandardScaler\n",
        "from sklearn import metrics\n",
        "from sklearn.metrics import confusion_matrix\n",
        "from sklearn.metrics import classification_report\n",
        "from sklearn.model_selection import train_test_split\n",
        "from sklearn import svm\n",
        "from sklearn.ensemble import RandomForestClassifier\n",
        "from sklearn.neighbors import KNeighborsClassifier\n",
        "import seaborn as sns"
      ]
    },
    {
      "cell_type": "markdown",
      "metadata": {
        "id": "Rkmu2nJgcg8K"
      },
      "source": [
        "Función para carga de datos. Formato binario propio de pandas: pickle"
      ]
    },
    {
      "cell_type": "code",
      "execution_count": 44,
      "metadata": {
        "id": "5vBERwFUTMPn"
      },
      "outputs": [],
      "source": [
        "def unpickle(file):\n",
        "    with open(file, 'rb') as f:     \n",
        "        data = pickle.load(f, encoding='bytes') \n",
        "    return data"
      ]
    },
    {
      "cell_type": "markdown",
      "metadata": {
        "id": "Ipdm0ZVGcx7Q"
      },
      "source": [
        "Fichero META: descripcion de la base de datos"
      ]
    },
    {
      "cell_type": "code",
      "execution_count": 45,
      "metadata": {
        "colab": {
          "base_uri": "https://localhost:8080/"
        },
        "id": "dfwhP7JvTNPe",
        "outputId": "32c0d545-06bb-4f80-dae5-0126a38ef8f8"
      },
      "outputs": [
        {
          "output_type": "stream",
          "name": "stdout",
          "text": [
            "dict_keys([b'fine_label_names', b'coarse_label_names'])\n"
          ]
        }
      ],
      "source": [
        "dataMeta = unpickle(\"meta\")\n",
        "print(dataMeta.keys())"
      ]
    },
    {
      "cell_type": "markdown",
      "metadata": {
        "id": "Wp1cmNSweIOT"
      },
      "source": [
        "Tipos de entidades"
      ]
    },
    {
      "cell_type": "code",
      "execution_count": 46,
      "metadata": {
        "colab": {
          "base_uri": "https://localhost:8080/"
        },
        "id": "8ExYJ2UHda2x",
        "outputId": "5f38c60e-c0df-4cf5-fd16-52262edd2edd"
      },
      "outputs": [
        {
          "output_type": "stream",
          "name": "stdout",
          "text": [
            "100\n",
            "[b'apple', b'aquarium_fish', b'baby', b'bear', b'beaver', b'bed', b'bee', b'beetle', b'bicycle', b'bottle', b'bowl', b'boy', b'bridge', b'bus', b'butterfly', b'camel', b'can', b'castle', b'caterpillar', b'cattle', b'chair', b'chimpanzee', b'clock', b'cloud', b'cockroach', b'couch', b'crab', b'crocodile', b'cup', b'dinosaur', b'dolphin', b'elephant', b'flatfish', b'forest', b'fox', b'girl', b'hamster', b'house', b'kangaroo', b'keyboard', b'lamp', b'lawn_mower', b'leopard', b'lion', b'lizard', b'lobster', b'man', b'maple_tree', b'motorcycle', b'mountain', b'mouse', b'mushroom', b'oak_tree', b'orange', b'orchid', b'otter', b'palm_tree', b'pear', b'pickup_truck', b'pine_tree', b'plain', b'plate', b'poppy', b'porcupine', b'possum', b'rabbit', b'raccoon', b'ray', b'road', b'rocket', b'rose', b'sea', b'seal', b'shark', b'shrew', b'skunk', b'skyscraper', b'snail', b'snake', b'spider', b'squirrel', b'streetcar', b'sunflower', b'sweet_pepper', b'table', b'tank', b'telephone', b'television', b'tiger', b'tractor', b'train', b'trout', b'tulip', b'turtle', b'wardrobe', b'whale', b'willow_tree', b'wolf', b'woman', b'worm']\n"
          ]
        }
      ],
      "source": [
        "print(len(dataMeta[b'fine_label_names']))\n",
        "print(dataMeta[b'fine_label_names'])"
      ]
    },
    {
      "cell_type": "markdown",
      "metadata": {
        "id": "O70Jd6xre1UR"
      },
      "source": [
        "y sus categorías"
      ]
    },
    {
      "cell_type": "code",
      "execution_count": 47,
      "metadata": {
        "colab": {
          "base_uri": "https://localhost:8080/"
        },
        "id": "9Lz2hp5ie5zP",
        "outputId": "c5765c03-69d6-44f0-e815-f031bdfaf472"
      },
      "outputs": [
        {
          "output_type": "stream",
          "name": "stdout",
          "text": [
            "20\n",
            "[b'aquatic_mammals', b'fish', b'flowers', b'food_containers', b'fruit_and_vegetables', b'household_electrical_devices', b'household_furniture', b'insects', b'large_carnivores', b'large_man-made_outdoor_things', b'large_natural_outdoor_scenes', b'large_omnivores_and_herbivores', b'medium_mammals', b'non-insect_invertebrates', b'people', b'reptiles', b'small_mammals', b'trees', b'vehicles_1', b'vehicles_2']\n"
          ]
        }
      ],
      "source": [
        "print(len(dataMeta[b'coarse_label_names']))\n",
        "print(dataMeta[b'coarse_label_names'])"
      ]
    },
    {
      "cell_type": "markdown",
      "metadata": {
        "id": "oVkOALFNe98N"
      },
      "source": [
        "Fichero TRAIN"
      ]
    },
    {
      "cell_type": "code",
      "execution_count": 48,
      "metadata": {
        "colab": {
          "base_uri": "https://localhost:8080/"
        },
        "id": "3m2XZ7pTfCBD",
        "outputId": "94299807-c4e7-4e35-df8f-b029a217709b"
      },
      "outputs": [
        {
          "output_type": "stream",
          "name": "stdout",
          "text": [
            "dict_keys([b'filenames', b'batch_label', b'fine_labels', b'coarse_labels', b'data'])\n",
            "50000\n"
          ]
        }
      ],
      "source": [
        "datatrain = unpickle(\"train\")\n",
        "\n",
        "print(datatrain.keys())\n",
        "print(len(datatrain[b'filenames']))"
      ]
    },
    {
      "cell_type": "markdown",
      "metadata": {
        "id": "l-fYIWckP1IG"
      },
      "source": [
        "vamos a hacer subarrays de datatrain y datatest por partes del diccionario: pixels (dtrain), etiquetas con detalle (dtrainflabels), categorias (dtrainclabels), el resto los dejamos de momento en paz"
      ]
    },
    {
      "cell_type": "code",
      "execution_count": 49,
      "metadata": {
        "colab": {
          "base_uri": "https://localhost:8080/"
        },
        "id": "ooL7t9j6fWou",
        "outputId": "9418a2d2-45d9-4820-f6eb-6eeb732d40f9"
      },
      "outputs": [
        {
          "output_type": "stream",
          "name": "stdout",
          "text": [
            "(50000, 3072)\n"
          ]
        }
      ],
      "source": [
        "dtrain=datatrain[b'data']\n",
        "dtrainflabels=datatrain[b'fine_labels']\n",
        "dtrainclabels=datatrain[b'coarse_labels']\n",
        "print(dtrain.shape)"
      ]
    },
    {
      "cell_type": "markdown",
      "metadata": {
        "id": "cSO78O-efW78"
      },
      "source": [
        "Cada entidad, se encuentra en una posición de cada uno de los anteriores atributos\n",
        "Vamos a ver la entidad '0'"
      ]
    },
    {
      "cell_type": "code",
      "execution_count": 50,
      "metadata": {
        "colab": {
          "base_uri": "https://localhost:8080/"
        },
        "id": "Y5jRGIn7fhVV",
        "outputId": "7f3c2d1a-3147-4654-8880-7f31b12b5bd0"
      },
      "outputs": [
        {
          "output_type": "stream",
          "name": "stdout",
          "text": [
            "3072\n"
          ]
        }
      ],
      "source": [
        "print(len(dtrain[0]))"
      ]
    },
    {
      "cell_type": "markdown",
      "metadata": {
        "id": "1TCJtr-bf5D9"
      },
      "source": [
        "Los datos de cada entidad contienen los valores de la imagen en dtrain y dtest. La imagen se obtiene por la combinación de tres canales/capas (red, green, blue) de la siguiente forma:"
      ]
    },
    {
      "cell_type": "code",
      "execution_count": 51,
      "metadata": {
        "id": "sBsvqiuXf_qq"
      },
      "outputs": [],
      "source": [
        "ch0 = dtrain[0][0:1024]\n",
        "ch1 = dtrain[0][1024:2048]\n",
        "ch2 = dtrain[0][2048:]"
      ]
    },
    {
      "cell_type": "markdown",
      "metadata": {
        "id": "2kaPPETVgF_O"
      },
      "source": [
        "Cada canal es una capa del correspondiente color"
      ]
    },
    {
      "cell_type": "code",
      "execution_count": 52,
      "metadata": {
        "id": "wiCCOV79gqoo"
      },
      "outputs": [],
      "source": [
        "ch0 = np.reshape(ch0, (32,32)) # red\n",
        "ch1 = np.reshape(ch1, (32,32)) # green\n",
        "ch2 = np.reshape(ch2, (32,32)) # blue"
      ]
    },
    {
      "cell_type": "markdown",
      "metadata": {
        "id": "m30azSM9gusP"
      },
      "source": [
        "La combinación de ellas da una imagen con los tres colores:"
      ]
    },
    {
      "cell_type": "code",
      "execution_count": 53,
      "metadata": {
        "colab": {
          "base_uri": "https://localhost:8080/",
          "height": 159
        },
        "id": "0yWWrTxFhjr7",
        "outputId": "dd7a5289-f3da-4c6d-bb9e-142736a844e9"
      },
      "outputs": [
        {
          "output_type": "display_data",
          "data": {
            "text/plain": [
              "<Figure size 144x144 with 1 Axes>"
            ],
            "image/png": "[encoded data removed]"
          },
          "metadata": {
            "needs_background": "light"
          }
        }
      ],
      "source": [
        "image = np.dstack((ch0, ch1, ch2))\n",
        "\n",
        "fig, ax = plt.subplots(figsize=(2, 2))\n",
        "\n",
        "ax.imshow(image)\n",
        "\n",
        "plt.show()"
      ]
    },
    {
      "cell_type": "markdown",
      "metadata": {
        "id": "KHla4pCUhj6j"
      },
      "source": [
        "La etiqueta y categoría de la entidad '0' están codificados en \n",
        "los atributos:"
      ]
    },
    {
      "cell_type": "code",
      "execution_count": 54,
      "metadata": {
        "colab": {
          "base_uri": "https://localhost:8080/"
        },
        "id": "oPjzTebOhyAe",
        "outputId": "4f2e795e-66c6-44be-8156-0c4d07f19ce0"
      },
      "outputs": [
        {
          "output_type": "stream",
          "name": "stdout",
          "text": [
            "19\n",
            "11\n"
          ]
        }
      ],
      "source": [
        "code_fine_label = dtrainflabels[0]\n",
        "code_coarse_label = dtrainclabels[0]\n",
        "print(code_fine_label)\n",
        "print(code_coarse_label)"
      ]
    },
    {
      "cell_type": "markdown",
      "metadata": {
        "id": "TSy1CnD5h4ph"
      },
      "source": [
        "Necesitamos la información del fichero META para poner nombre al código de la etiqueta"
      ]
    },
    {
      "cell_type": "code",
      "execution_count": 55,
      "metadata": {
        "colab": {
          "base_uri": "https://localhost:8080/"
        },
        "id": "7JXvGpNdiD5j",
        "outputId": "f76def2b-1c85-4e23-b47c-069187a54bee"
      },
      "outputs": [
        {
          "output_type": "stream",
          "name": "stdout",
          "text": [
            "b'cattle'\n",
            "b'large_omnivores_and_herbivores'\n"
          ]
        }
      ],
      "source": [
        "print(dataMeta[b'fine_label_names'][code_fine_label])\n",
        "print(dataMeta[b'coarse_label_names'][code_coarse_label])"
      ]
    },
    {
      "cell_type": "markdown",
      "metadata": {
        "id": "xTyKv7sks_ur"
      },
      "source": [
        "Añadimos su titulo a partir de su etiqueta, le quitamos los indicadores de los pixels y guardamos en formato .jpg"
      ]
    },
    {
      "cell_type": "code",
      "execution_count": 56,
      "metadata": {
        "colab": {
          "base_uri": "https://localhost:8080/",
          "height": 158
        },
        "id": "IJymi1W0iIID",
        "outputId": "e4b9323a-15b9-4cc2-b862-9f96a74fe528"
      },
      "outputs": [
        {
          "output_type": "display_data",
          "data": {
            "text/plain": [
              "<Figure size 144x144 with 1 Axes>"
            ],
            "image/png": "[encoded data removed]"
          },
          "metadata": {
            "needs_background": "light"
          }
        }
      ],
      "source": [
        "fig, ax = plt.subplots(figsize=(2, 2))\n",
        "\n",
        "ax.imshow(image)\n",
        "\n",
        "ax.set_title(dataMeta[b'fine_label_names'][code_fine_label].decode(\"utf-8\").capitalize(),y=-.2)\n",
        "\n",
        "plt.axis('off')\n",
        "\n",
        "plt.savefig('cattle.jpg',dpi=32)\n",
        "\n",
        "plt.show()"
      ]
    },
    {
      "cell_type": "markdown",
      "metadata": {
        "id": "Fu3qRsgRid1d"
      },
      "source": [
        "Fichero TEST: como en TRAIN, tambien sacamos del diccionario una tabla (numeros o valores del color) y dos listas (categorias y etiquetas): 10.000 o 1/6 del total."
      ]
    },
    {
      "cell_type": "code",
      "execution_count": 57,
      "metadata": {
        "colab": {
          "base_uri": "https://localhost:8080/"
        },
        "id": "85ZVLZJ8m_bL",
        "outputId": "9292f18d-e229-4f5b-95ec-e40a34239349"
      },
      "outputs": [
        {
          "output_type": "stream",
          "name": "stdout",
          "text": [
            "dict_keys([b'filenames', b'batch_label', b'fine_labels', b'coarse_labels', b'data'])\n",
            "(10000, 3072)\n"
          ]
        }
      ],
      "source": [
        "datatest = unpickle(\"test\")\n",
        "\n",
        "print(datatest.keys())\n",
        "dtest=datatest[b'data']\n",
        "dtestflabels=datatest[b'fine_labels']\n",
        "dtestclabels=datatest[b'coarse_labels']\n",
        "print(dtest.shape)"
      ]
    },
    {
      "cell_type": "markdown",
      "metadata": {
        "id": "_flC3_dvnDVF"
      },
      "source": [
        "variable clasificadora: coase_labels"
      ]
    },
    {
      "cell_type": "code",
      "execution_count": 58,
      "metadata": {
        "colab": {
          "base_uri": "https://localhost:8080/"
        },
        "id": "eOSGvbKDnJSe",
        "outputId": "53acb93a-2a04-4e35-8671-df77c83da98c"
      },
      "outputs": [
        {
          "output_type": "stream",
          "name": "stdout",
          "text": [
            "15\n"
          ]
        }
      ],
      "source": [
        "print(dtrainclabels[1])"
      ]
    },
    {
      "cell_type": "markdown",
      "metadata": {
        "id": "wJn_pmkfnMxy"
      },
      "source": [
        "por ejemplo: la 2ª variable tiene categoria 15"
      ]
    },
    {
      "cell_type": "code",
      "execution_count": 59,
      "metadata": {
        "colab": {
          "base_uri": "https://localhost:8080/"
        },
        "id": "VDn5lPIvnZwv",
        "outputId": "bda7b4d4-2bde-45ef-9776-1905e0e351d3"
      },
      "outputs": [
        {
          "output_type": "stream",
          "name": "stdout",
          "text": [
            "15\n"
          ]
        }
      ],
      "source": [
        "print(dtrainclabels[1])"
      ]
    },
    {
      "cell_type": "markdown",
      "metadata": {
        "id": "M9Wvf8nCndVH"
      },
      "source": [
        "por ejemplo: la 2ª variable tiene categoria 15"
      ]
    },
    {
      "cell_type": "markdown",
      "metadata": {
        "id": "3h2X3IYe2OpG"
      },
      "source": [
        "veamos como son los valores centrales del conjunto de entrenamiento. Media será de los valores de las celdas de la key 'data', es decir, 1/3 del color de cada pixel de la entidad (32x32), pero eso es solo un valor, no lo que ocupa\n"
      ]
    },
    {
      "cell_type": "code",
      "execution_count": 60,
      "metadata": {
        "colab": {
          "base_uri": "https://localhost:8080/"
        },
        "id": "ct8Ramy4ns6N",
        "outputId": "5cd431e2-4189-4ac0-be42-111706597e8a"
      },
      "outputs": [
        {
          "output_type": "stream",
          "name": "stdout",
          "text": [
            "datos del conjunto de entrenamiento\n",
            "media =  122\n",
            "mediana =  116\n",
            "desviacion_tipica = 68\n",
            "rango entre  0 y 255\n"
          ]
        }
      ],
      "source": [
        "print('datos del conjunto de entrenamiento')\n",
        "media=np.mean(dtrain)\n",
        "print('media = ',round(media))\n",
        "mediana=np.median(dtrain)\n",
        "print('mediana = ',round(mediana))\n",
        "desv=np.std(dtrain)\n",
        "print('desviacion_tipica =',round(desv))\n",
        "minimo=np.min(dtrain)\n",
        "maximo=np.max(dtrain)\n",
        "print('rango entre ',minimo, 'y' ,maximo)"
      ]
    },
    {
      "cell_type": "markdown",
      "metadata": {
        "id": "Tw_GC5WPn31a"
      },
      "source": [
        "para utilizar Pandas, se requiere formato data frame de los datos de los pixels, pero tambien lo haremos de la columna de categorias, pues mas adelante los juntaremos"
      ]
    },
    {
      "cell_type": "code",
      "execution_count": 61,
      "metadata": {
        "id": "aREUBfy6oBB_"
      },
      "outputs": [],
      "source": [
        "dftrain=pd.DataFrame(dtrain)\n",
        "dftrainclabels=pd.DataFrame(dtrainclabels)"
      ]
    },
    {
      "cell_type": "markdown",
      "metadata": {
        "id": "ngZem7_vrzNK"
      },
      "source": [
        "Numero de fotos del train"
      ]
    },
    {
      "cell_type": "code",
      "execution_count": 62,
      "metadata": {
        "colab": {
          "base_uri": "https://localhost:8080/"
        },
        "id": "KNDlbjcMoVLU",
        "outputId": "24d9f896-bb21-42a8-f8f2-795dda0a7a45"
      },
      "outputs": [
        {
          "output_type": "stream",
          "name": "stdout",
          "text": [
            "numero de fotos en train=  50000\n"
          ]
        }
      ],
      "source": [
        "numfotos=len(dftrain)\n",
        "print('numero de fotos en train= ',numfotos)"
      ]
    },
    {
      "cell_type": "markdown",
      "metadata": {
        "id": "UyNeMG-esBFs"
      },
      "source": [
        "tamaño del train en Bytes"
      ]
    },
    {
      "cell_type": "code",
      "execution_count": 63,
      "metadata": {
        "colab": {
          "base_uri": "https://localhost:8080/"
        },
        "id": "t3YAQ0srsGE7",
        "outputId": "066c6ce6-cfd3-442b-ab36-0435fdb8b3c3"
      },
      "outputs": [
        {
          "output_type": "stream",
          "name": "stdout",
          "text": [
            "peso de las fotos en Bytes=  155249918\n"
          ]
        }
      ],
      "source": [
        "pesofotos=os.stat('train').st_size \n",
        "print('peso de las fotos en Bytes= ',pesofotos)"
      ]
    },
    {
      "cell_type": "markdown",
      "metadata": {
        "id": "MWw2KSJGsM5W"
      },
      "source": [
        "lo mismo en MB : 148 MB"
      ]
    },
    {
      "cell_type": "code",
      "execution_count": 64,
      "metadata": {
        "colab": {
          "base_uri": "https://localhost:8080/"
        },
        "id": "SF28RkWAsM8A",
        "outputId": "8c08a974-41fa-45eb-e4dd-d1a0b2f2670c"
      },
      "outputs": [
        {
          "output_type": "stream",
          "name": "stdout",
          "text": [
            "MB ocupados =  148.0\n"
          ]
        }
      ],
      "source": [
        "mbfotos=pesofotos/(1024*1024)\n",
        "print('MB ocupados = ',round(mbfotos,0))"
      ]
    },
    {
      "cell_type": "markdown",
      "metadata": {
        "id": "PNCP22PaoZPD"
      },
      "source": [
        "veamos ahora lo que pesaria si las fotos estuvieran en formato JPG: sabemos que pesa una foto promedio en bytes (dividido por 1024 en kB y otra vez por 1024 en MB)"
      ]
    },
    {
      "cell_type": "code",
      "execution_count": 65,
      "metadata": {
        "colab": {
          "base_uri": "https://localhost:8080/"
        },
        "id": "sxbxe4yuozi2",
        "outputId": "a617d492-1803-43aa-fbae-1b70a6ea5e42"
      },
      "outputs": [
        {
          "output_type": "stream",
          "name": "stdout",
          "text": [
            "peso de cattle=  1.46 MB\n"
          ]
        }
      ],
      "source": [
        "pesofoto=os.stat('cattle.jpg').st_size/(1024^2)\n",
        "print('peso de cattle= ',round(pesofoto,2),'MB')"
      ]
    },
    {
      "cell_type": "markdown",
      "metadata": {
        "id": "kkCIza9Jo0Zl"
      },
      "source": [
        "promedio del peso de una foto x numero de fotos del train"
      ]
    },
    {
      "cell_type": "code",
      "execution_count": 66,
      "metadata": {
        "id": "XFaslT01pB9M"
      },
      "outputs": [],
      "source": [
        "pesotrain=pesofoto*len(dtrain)"
      ]
    },
    {
      "cell_type": "markdown",
      "source": [],
      "metadata": {
        "id": "K9kD_TU3s-Sw"
      }
    },
    {
      "cell_type": "markdown",
      "metadata": {
        "id": "ItuZxAMTpFFi"
      },
      "source": [
        "una entidad ocupa en el orden de 3kB, pero en formato JPG, unos 1.460 kB: la diferencia es de casi 500 veces. Pasamos de 148 MB a 74 TB, y eso limitando la definicion a 32x32 pixels."
      ]
    },
    {
      "cell_type": "code",
      "execution_count": 67,
      "metadata": {
        "colab": {
          "base_uri": "https://localhost:8080/"
        },
        "id": "Y03cr2NNpOHL",
        "outputId": "da476a8c-ab29-4247-fbbd-072fa81524d8"
      },
      "outputs": [
        {
          "output_type": "stream",
          "name": "stdout",
          "text": [
            "73098.0 MB\n"
          ]
        }
      ],
      "source": [
        "diferenciaMB=pesotrain-mbfotos\n",
        "print(round(diferenciaMB,0),'MB')"
      ]
    },
    {
      "cell_type": "markdown",
      "metadata": {
        "id": "OKYl2_vZpWFC"
      },
      "source": [
        "copio lo anterior y repito lo mismo: cambio train por test, aunque bastaria que dividiera por 5 el numero de fotos y por tanto los tamaños comparados del test"
      ]
    },
    {
      "cell_type": "code",
      "execution_count": 68,
      "metadata": {
        "colab": {
          "base_uri": "https://localhost:8080/"
        },
        "id": "dQHDHlB4eqru",
        "outputId": "f35202ef-4aaa-4681-aba7-3efb869d516f"
      },
      "outputs": [
        {
          "output_type": "stream",
          "name": "stdout",
          "text": [
            "datos del conjunto de prueba\n",
            "media =  122\n",
            "mediana =  117\n",
            "desviacion_tipica 69\n",
            "rango entre  0 y 255\n"
          ]
        }
      ],
      "source": [
        "print('datos del conjunto de prueba')\n",
        "\n",
        "mediat=np.mean(dtest)\n",
        "print('media = ',round(mediat))\n",
        "medianat=np.median(dtest)\n",
        "print('mediana = ',round(medianat))\n",
        "desvt=np.std(dtest)\n",
        "print('desviacion_tipica',round(desvt))\n",
        "minimot=np.min(dtest)\n",
        "maximot=np.max(dtest)\n",
        "print('rango entre ',minimot, 'y' ,maximot)\n",
        "\n",
        "dftest=pd.DataFrame(dtest)\n",
        "dftestclabels=pd.DataFrame(dtestclabels)"
      ]
    },
    {
      "cell_type": "markdown",
      "metadata": {
        "id": "umpNDVXyskLK"
      },
      "source": [
        "Numero de fotos del Test"
      ]
    },
    {
      "cell_type": "code",
      "execution_count": 69,
      "metadata": {
        "colab": {
          "base_uri": "https://localhost:8080/"
        },
        "id": "Igb-2UWlqn1D",
        "outputId": "5d8d7e6a-1152-4afc-8c58-9f7111d22f8b"
      },
      "outputs": [
        {
          "output_type": "stream",
          "name": "stdout",
          "text": [
            "numero de fotos en test=  10000\n"
          ]
        }
      ],
      "source": [
        "numfotost=len(dftest)\n",
        "print('numero de fotos en test= ',numfotost)"
      ]
    },
    {
      "cell_type": "markdown",
      "metadata": {
        "id": "Uqy3yiJwqw51"
      },
      "source": [
        "tamaño del Test en Bytes"
      ]
    },
    {
      "cell_type": "code",
      "execution_count": 70,
      "metadata": {
        "id": "G7rw-mXIqxPY"
      },
      "outputs": [],
      "source": [
        "pesofotost=os.stat('test').st_size"
      ]
    },
    {
      "cell_type": "markdown",
      "metadata": {
        "id": "DZD3N2gaq4V0"
      },
      "source": [
        "lo mismo en MB (¡solo 30 MB!)"
      ]
    },
    {
      "cell_type": "code",
      "execution_count": 71,
      "metadata": {
        "colab": {
          "base_uri": "https://localhost:8080/"
        },
        "id": "iCKHO8Qwq_c1",
        "outputId": "c8e6e371-bb6c-4b5c-9bbb-601c1a3a3abe"
      },
      "outputs": [
        {
          "output_type": "stream",
          "name": "stdout",
          "text": [
            "MB ocupados =  30.0\n"
          ]
        }
      ],
      "source": [
        "mbfotostest=pesofotost/(1024*1024)\n",
        "print('MB ocupados = ',round(mbfotostest,0))"
      ]
    },
    {
      "cell_type": "markdown",
      "metadata": {
        "id": "Nn2JrrT_f0xZ"
      },
      "source": [
        "sabemos así lo que ocupa el fichero en su conjunto. Ahora veamos una foto promedio para multiplicarla por el numero de fotos del test y pasarla despues a MB"
      ]
    },
    {
      "cell_type": "code",
      "execution_count": 72,
      "metadata": {
        "colab": {
          "base_uri": "https://localhost:8080/"
        },
        "id": "aVwFqFXVpt0g",
        "outputId": "57f68a73-aee7-4f8e-e6be-2bcc4beb433f"
      },
      "outputs": [
        {
          "output_type": "stream",
          "name": "stdout",
          "text": [
            "1.46 MB\n"
          ]
        }
      ],
      "source": [
        "pesofotot=os.stat('cattle.jpg').st_size/(1024^2)\n",
        "print(round(pesofotot,2),'MB')"
      ]
    },
    {
      "cell_type": "markdown",
      "metadata": {
        "id": "f2Eivp1dqBau"
      },
      "source": [
        "promedio del peso de una foto x numero de fotos del train"
      ]
    },
    {
      "cell_type": "code",
      "execution_count": 73,
      "metadata": {
        "id": "fdNdz1ACqD53"
      },
      "outputs": [],
      "source": [
        "pesotest=pesofotot*len(dtest)"
      ]
    },
    {
      "cell_type": "markdown",
      "metadata": {
        "id": "rI7MT531qH8a"
      },
      "source": [
        "la diferencia si contuvieran JPG:"
      ]
    },
    {
      "cell_type": "code",
      "execution_count": 74,
      "metadata": {
        "colab": {
          "base_uri": "https://localhost:8080/"
        },
        "id": "8h8VhXfFqMMM",
        "outputId": "fa2a042c-28fe-4cf9-c1d0-bf4159cc9ba8"
      },
      "outputs": [
        {
          "output_type": "stream",
          "name": "stdout",
          "text": [
            "14620.0 MB\n"
          ]
        }
      ],
      "source": [
        "diferenciaMBt=pesotest-mbfotostest\n",
        "print(round(diferenciaMBt,0),'MB')"
      ]
    },
    {
      "cell_type": "markdown",
      "metadata": {
        "id": "6LM1uZhKT_dF"
      },
      "source": [
        "3 categorias elegidas al azar"
      ]
    },
    {
      "cell_type": "code",
      "execution_count": 75,
      "metadata": {
        "colab": {
          "base_uri": "https://localhost:8080/"
        },
        "id": "ydDzXtErsz3-",
        "outputId": "e1134b88-1853-4496-af97-e41331115270"
      },
      "outputs": [
        {
          "output_type": "stream",
          "name": "stdout",
          "text": [
            "b'large_man-made_outdoor_things' foto 9\n",
            "b'reptiles' foto 15\n",
            "b'small_mammals' foto 16\n"
          ]
        }
      ],
      "source": [
        "random.seed(0)\n",
        "cat3=sample(dtrainclabels,3)\n",
        "print(dataMeta[b'coarse_label_names'][cat3[0]],'foto',cat3[0])\n",
        "print(dataMeta[b'coarse_label_names'][cat3[1]],'foto',cat3[1])\n",
        "print(dataMeta[b'coarse_label_names'][cat3[2]],'foto',cat3[2])"
      ]
    },
    {
      "cell_type": "markdown",
      "metadata": {
        "id": "jSHBiTews4mV"
      },
      "source": [
        "probamos con las mismas entidades"
      ]
    },
    {
      "cell_type": "markdown",
      "metadata": {
        "id": "1GnYjDz5tdga"
      },
      "source": [
        "utilizamos el mismo set de datos de train dftrain y dftrainclabels \n",
        "que corresponden a los mismos dtrain y dtrainclabels, pero\n",
        "acondicionados para usar con dataframes de Pandas"
      ]
    },
    {
      "cell_type": "markdown",
      "metadata": {
        "id": "jkvKavnztuK4"
      },
      "source": [
        "creamos un data frame de las entidades que estan en las categorias elegidas y visualizamos los primeros 10 valores para chekear que incluyen las 3 categorias\n"
      ]
    },
    {
      "cell_type": "code",
      "execution_count": 76,
      "metadata": {
        "colab": {
          "base_uri": "https://localhost:8080/"
        },
        "id": "YUumRT60twyh",
        "outputId": "7cb06f6e-6fc1-4c65-ee0f-362fed20fbe3"
      },
      "outputs": [
        {
          "output_type": "stream",
          "name": "stdout",
          "text": [
            "     0\n",
            "1   15\n",
            "13   9\n",
            "18  16\n",
            "20  16\n",
            "31   9\n",
            "33  16\n",
            "40  15\n",
            "45   9\n",
            "49  15\n"
          ]
        }
      ],
      "source": [
        "trainclabelsbol=dftrainclabels.isin(cat3)==True\n",
        "train3=dftrainclabels[trainclabelsbol].dropna().astype(int)\n",
        "print(train3[0:9])"
      ]
    },
    {
      "cell_type": "markdown",
      "metadata": {
        "id": "sFJGLBSPt3SZ"
      },
      "source": [
        "lo mismo con las de prueba"
      ]
    },
    {
      "cell_type": "code",
      "execution_count": 77,
      "metadata": {
        "colab": {
          "base_uri": "https://localhost:8080/"
        },
        "id": "idkYpDmit7Hp",
        "outputId": "835e0246-c179-495f-b8fc-32cac7f9de34"
      },
      "outputs": [
        {
          "output_type": "stream",
          "name": "stdout",
          "text": [
            "     0\n",
            "23  15\n",
            "33  15\n",
            "39   9\n",
            "49   9\n",
            "61  15\n",
            "63  16\n",
            "81  15\n",
            "84  15\n",
            "86  15\n"
          ]
        }
      ],
      "source": [
        "testclabelsbol=dftestclabels.isin(cat3)==True\n",
        "test3=dftestclabels[testclabelsbol].dropna().astype(int)\n",
        "print(test3[0:9])"
      ]
    },
    {
      "cell_type": "markdown",
      "metadata": {
        "id": "fftlF5nYuBF9"
      },
      "source": [
        "construiremos la tabla del subset de 7500 entidades de las 3 categorias: juntando las coarse labels con los datos de las entidades y quitando la ultima columna"
      ]
    },
    {
      "cell_type": "code",
      "execution_count": 78,
      "metadata": {
        "colab": {
          "base_uri": "https://localhost:8080/"
        },
        "id": "Q92D8wxdsV0j",
        "outputId": "4236e047-7e6a-42b8-a6a3-074cf27ef3ad"
      },
      "outputs": [
        {
          "output_type": "stream",
          "name": "stdout",
          "text": [
            "    0     1     2     3     4     5     6     7     8     9     ...  3062  \\\n",
            "1    255   253   253   253   253   253   253   253   253   253  ...   253   \n",
            "13   253   251   252   252   252   252   252   251   251   251  ...   139   \n",
            "18    71    46    74    80    86    93    78    93    89    84  ...   105   \n",
            "20   156   151   158   155   157   158   154   158   163   158  ...   147   \n",
            "31   252   251   252   252   251   252   252   252   252   252  ...    50   \n",
            "33    30    21    30    38    49    50    35    30    31    26  ...    99   \n",
            "40    48    57    52    37    36    35    51    49    51    56  ...   204   \n",
            "45    58    64    70    70    68    66    65    65    68    70  ...    20   \n",
            "49     3    45    59    37    37    51    43    48    68    54  ...   160   \n",
            "\n",
            "    3063  3064  3065  3066  3067  3068  3069  3070  3071  \n",
            "1    253   253   253   253   253   253   253   253   255  \n",
            "13   142   140   141   141   139   139   139   137   133  \n",
            "18    84    66    67    76    89    77    89    82    80  \n",
            "20   151   142   139   154   133   131   143   139   132  \n",
            "31    44    48    89    79    59    55    65    71    77  \n",
            "33   103   103   101    77    19     4     6     5     7  \n",
            "40   168   187   190   184   182   186   198   188   182  \n",
            "45    26    30    28    21    26    23    21    21    23  \n",
            "49   152   129   110   125   122   107   106   100   111  \n",
            "\n",
            "[9 rows x 3072 columns]\n",
            "(7500, 3072)\n",
            "(7500,)\n"
          ]
        }
      ],
      "source": [
        "XX_train=pd.concat([dftrain,train3], axis=1, join=\"inner\")\n",
        "X_train=XX_train.iloc[: , :-1]\n",
        "print(X_train[0:9])\n",
        "print(X_train.shape)\n",
        "y_train = train3[0]\n",
        "print(y_train.shape)"
      ]
    },
    {
      "cell_type": "markdown",
      "metadata": {
        "id": "s_KWZL0DupuX"
      },
      "source": [
        "asi tenemos los datos donde aplicar los métodos Machine Learning al sample"
      ]
    },
    {
      "cell_type": "markdown",
      "metadata": {
        "id": "Q4cqUh9CVi_h"
      },
      "source": [
        "Ahora vamos a crear los entornos de prueba"
      ]
    },
    {
      "cell_type": "code",
      "execution_count": 79,
      "metadata": {
        "colab": {
          "base_uri": "https://localhost:8080/"
        },
        "id": "x35cJZaoVoiT",
        "outputId": "7f4ad915-d879-4bd8-c98c-60c36877536a"
      },
      "outputs": [
        {
          "output_type": "stream",
          "name": "stdout",
          "text": [
            "    0     1     2     3     4     5     6     7     8     9     ...  3062  \\\n",
            "23    66    68    71    73    76    79    84    90    93   102  ...    48   \n",
            "33    19    19    18    16    16    17    18    18    18    18  ...    21   \n",
            "39   162   130   162   119   103   193   244   242   246   246  ...    46   \n",
            "49    85    93   105   112   143   177   148   135   138   145  ...    65   \n",
            "61    67    73    71    73    77    89    99    86    85    94  ...    44   \n",
            "63    74    90    81    64    76    79    42    91   131    95  ...    68   \n",
            "81   174   173   174   176   183   193   204   212   216   217  ...   149   \n",
            "84     1     1     1     1     1     1     1     1     1     1  ...     1   \n",
            "86   188   188   191   192   194   195   196   198   200   202  ...   247   \n",
            "\n",
            "    3063  3064  3065  3066  3067  3068  3069  3070  3071  \n",
            "23    48    45    42    39    39    41    39    35    32  \n",
            "33    19    19    20    22    19    18    18    18    18  \n",
            "39    91    79    83   109   125   137   145   151   147  \n",
            "49    49    41    45    53    64    64    62    61    47  \n",
            "61    44    47    48    43    40    42    42    44    43  \n",
            "63    71    80    71    72    76    80    84    78    62  \n",
            "81   151   152   153   152   153   154   154   154   154  \n",
            "84     1     1     1     1     1     1     1     1     1  \n",
            "86   246   244   242   241   238   235   233   233   233  \n",
            "\n",
            "[9 rows x 3072 columns]\n",
            "(1500, 3072)\n",
            "(1500,)\n"
          ]
        }
      ],
      "source": [
        "XX_test=pd.concat([dftest,test3], axis=1, join=\"inner\")\n",
        "X_test=XX_test.iloc[: , :-1]\n",
        "print(X_test[0:9])\n",
        "print(X_test.shape)\n",
        "y_test = test3[0]\n",
        "print(y_test.shape)"
      ]
    },
    {
      "cell_type": "markdown",
      "metadata": {
        "id": "QCUyAl7avKT-"
      },
      "source": [
        "Support Vector Machine: datos linealmente separables por un hiperplano\n"
      ]
    },
    {
      "cell_type": "markdown",
      "metadata": {
        "id": "lgDRQT6NvP-p"
      },
      "source": [
        "entrenamos"
      ]
    },
    {
      "cell_type": "code",
      "execution_count": 80,
      "metadata": {
        "colab": {
          "base_uri": "https://localhost:8080/"
        },
        "id": "yzynyTBdvh49",
        "outputId": "ece61e26-76dd-4c6f-e357-d172630ed066"
      },
      "outputs": [
        {
          "output_type": "execute_result",
          "data": {
            "text/plain": [
              "SVC(C=100, kernel='linear', random_state=123)"
            ]
          },
          "metadata": {},
          "execution_count": 80
        }
      ],
      "source": [
        "svmclass = svm.SVC(C = 100, kernel = 'linear', random_state=123)\n",
        "svmclass.fit(X_train,y_train)"
      ]
    },
    {
      "cell_type": "markdown",
      "metadata": {
        "id": "PFIyBnSUvjhE"
      },
      "source": [
        "predecimos con datos de test"
      ]
    },
    {
      "cell_type": "code",
      "execution_count": 81,
      "metadata": {
        "id": "DkB2hzG-vraD"
      },
      "outputs": [],
      "source": [
        "predsvm=svmclass.predict(X_test)"
      ]
    },
    {
      "cell_type": "markdown",
      "metadata": {
        "id": "yQwYf_Qqvrsz"
      },
      "source": [
        "matriz de confusion (correctamente clasificados, falsos+, falsos-)\n"
      ]
    },
    {
      "cell_type": "code",
      "execution_count": null,
      "metadata": {
        "id": "NAu8KvwMvzW2"
      },
      "outputs": [],
      "source": [
        "cmsvm=confusion_matrix(y_test,predsvm)\n",
        "print(cmsvm)"
      ]
    },
    {
      "cell_type": "markdown",
      "metadata": {
        "id": "yI3li6cEv3QH"
      },
      "source": [
        "report estandar de SVMreport estandar de SVM"
      ]
    },
    {
      "cell_type": "code",
      "execution_count": 83,
      "metadata": {
        "colab": {
          "base_uri": "https://localhost:8080/"
        },
        "id": "KKtimMl2v-IJ",
        "outputId": "42a5c88c-cf88-4a22-967f-37cd84169baa"
      },
      "outputs": [
        {
          "output_type": "stream",
          "name": "stdout",
          "text": [
            "              precision    recall  f1-score   support\n",
            "\n",
            "           9       0.59      0.74      0.66       500\n",
            "          15       0.44      0.39      0.41       500\n",
            "          16       0.50      0.43      0.46       500\n",
            "\n",
            "    accuracy                           0.52      1500\n",
            "   macro avg       0.51      0.52      0.51      1500\n",
            "weighted avg       0.51      0.52      0.51      1500\n",
            "\n",
            "Correctamente Clasificados: 0.5\n"
          ]
        }
      ],
      "source": [
        "svmacc=metrics.accuracy_score(y_test,predsvm)\n",
        "svmreport=classification_report(y_test,predsvm)\n",
        "print(svmreport)\n",
        "print('Correctamente Clasificados:',round(svmacc,1))"
      ]
    },
    {
      "cell_type": "markdown",
      "metadata": {
        "id": "LRv8r_yzwCjw"
      },
      "source": [
        "Random Forest"
      ]
    },
    {
      "cell_type": "markdown",
      "metadata": {
        "id": "POQQ-5dOwLdo"
      },
      "source": [
        "entrenamos:"
      ]
    },
    {
      "cell_type": "code",
      "execution_count": 84,
      "metadata": {
        "id": "hHGq4387wH08",
        "colab": {
          "base_uri": "https://localhost:8080/"
        },
        "outputId": "df879e41-eef0-457e-e789-b7f923eb20a1"
      },
      "outputs": [
        {
          "output_type": "execute_result",
          "data": {
            "text/plain": [
              "RandomForestClassifier(random_state=0)"
            ]
          },
          "metadata": {},
          "execution_count": 84
        }
      ],
      "source": [
        "rfclass=RandomForestClassifier(random_state=0)\n",
        "rfclass.fit(X_train,y_train)"
      ]
    },
    {
      "cell_type": "markdown",
      "metadata": {
        "id": "4dIUXyB_wRcI"
      },
      "source": [
        "predecimos:"
      ]
    },
    {
      "cell_type": "code",
      "execution_count": null,
      "metadata": {
        "id": "anitl8newUwi"
      },
      "outputs": [],
      "source": [
        "predrf=rfclass.predict(X_test)"
      ]
    },
    {
      "cell_type": "markdown",
      "metadata": {
        "id": "lrXOeffGwamR"
      },
      "source": [
        "matriz de confusion"
      ]
    },
    {
      "cell_type": "code",
      "execution_count": null,
      "metadata": {
        "id": "4Z9LUOsnwftD"
      },
      "outputs": [],
      "source": [
        "cmrf=confusion_matrix(y_test,predrf)\n",
        "print(cmrf)"
      ]
    },
    {
      "cell_type": "markdown",
      "metadata": {
        "id": "wxqNLf8nwlAW"
      },
      "source": [
        "report estandar de RF"
      ]
    },
    {
      "cell_type": "code",
      "execution_count": null,
      "metadata": {
        "id": "8w1CfnbVwq5O"
      },
      "outputs": [],
      "source": [
        "rfacc=metrics.accuracy_score(y_test,predrf)\n",
        "rfreport=classification_report(y_test,predrf)\n",
        "print(rfreport)\n",
        "print('Correctamente Clasificados:',round(rfacc,1))"
      ]
    },
    {
      "cell_type": "markdown",
      "metadata": {
        "id": "8aFxLd_pxMG-"
      },
      "source": [
        "K Neighbors Classifier"
      ]
    },
    {
      "cell_type": "markdown",
      "metadata": {
        "id": "eMrJgE0HxP74"
      },
      "source": [
        "Debemos elegir un numero de vecinos para ver cual es el mejor (entre 1 y 10) \n"
      ]
    },
    {
      "cell_type": "markdown",
      "metadata": {
        "id": "aDnn0ZpXyZ4O"
      },
      "source": [
        "Probamos con todos los valores y entre el 7 y el 9 se obtienen los mejores resultados"
      ]
    },
    {
      "cell_type": "markdown",
      "metadata": {
        "id": "Ud0TMzKuxXLu"
      },
      "source": [
        "entrenamos:"
      ]
    },
    {
      "cell_type": "code",
      "execution_count": 88,
      "metadata": {
        "id": "atwaqRj8xZxr",
        "colab": {
          "base_uri": "https://localhost:8080/"
        },
        "outputId": "5f69c927-a71c-4a55-e217-52777544a74c"
      },
      "outputs": [
        {
          "output_type": "execute_result",
          "data": {
            "text/plain": [
              "KNeighborsClassifier(n_neighbors=9)"
            ]
          },
          "metadata": {},
          "execution_count": 88
        }
      ],
      "source": [
        "k=9\n",
        "\n",
        "nbclass=KNeighborsClassifier(n_neighbors=k) \n",
        "nbclass.fit(X_train,y_train)"
      ]
    },
    {
      "cell_type": "markdown",
      "metadata": {
        "id": "l2S7DhGHxeHI"
      },
      "source": [
        "predecimos"
      ]
    },
    {
      "cell_type": "code",
      "execution_count": 89,
      "metadata": {
        "id": "VkpMQpjYxgnR"
      },
      "outputs": [],
      "source": [
        "prednc=nbclass.predict(X_test)"
      ]
    },
    {
      "cell_type": "markdown",
      "metadata": {
        "id": "hf3HZaixxmmw"
      },
      "source": [
        "matriz de confusion"
      ]
    },
    {
      "cell_type": "code",
      "execution_count": 90,
      "metadata": {
        "id": "vxLP-_rtxqpw",
        "colab": {
          "base_uri": "https://localhost:8080/"
        },
        "outputId": "e52b7c1b-c37b-4cd5-dd8c-80436a4cf7fa"
      },
      "outputs": [
        {
          "output_type": "stream",
          "name": "stdout",
          "text": [
            "[[397  60  43]\n",
            " [ 38 298 164]\n",
            " [ 27 225 248]]\n"
          ]
        }
      ],
      "source": [
        "cmnb=confusion_matrix(y_test,prednc)\n",
        "print(cmnb)"
      ]
    },
    {
      "cell_type": "markdown",
      "metadata": {
        "id": "OTDFU6fuxv-v"
      },
      "source": [
        "report estandar de NC"
      ]
    },
    {
      "cell_type": "code",
      "execution_count": 91,
      "metadata": {
        "id": "ITFCBc9ax3I-",
        "colab": {
          "base_uri": "https://localhost:8080/"
        },
        "outputId": "ae77d8a2-da99-4786-8f99-b7e1f2534b9f"
      },
      "outputs": [
        {
          "output_type": "stream",
          "name": "stdout",
          "text": [
            "              precision    recall  f1-score   support\n",
            "\n",
            "           9       0.86      0.79      0.83       500\n",
            "          15       0.51      0.60      0.55       500\n",
            "          16       0.55      0.50      0.52       500\n",
            "\n",
            "    accuracy                           0.63      1500\n",
            "   macro avg       0.64      0.63      0.63      1500\n",
            "weighted avg       0.64      0.63      0.63      1500\n",
            "\n",
            "Correctamente Clasificados: 0.6\n"
          ]
        }
      ],
      "source": [
        "ncacc=metrics.accuracy_score(y_test,prednc)\n",
        "ncreport=classification_report(y_test,prednc)\n",
        "print(ncreport)\n",
        "print('Correctamente Clasificados:',round(ncacc,1))"
      ]
    },
    {
      "cell_type": "markdown",
      "metadata": {
        "id": "uFJAG_AUvV57"
      },
      "source": [
        "compararemos los 3 métodos por %correctamente clasificados, falsos+ y falsos-\n",
        "\n"
      ]
    },
    {
      "cell_type": "code",
      "execution_count": 92,
      "metadata": {
        "id": "qF3pXkxWwX-6",
        "colab": {
          "base_uri": "https://localhost:8080/"
        },
        "outputId": "7fccea5b-dc3c-437f-dfb0-745184b6ebfa"
      },
      "outputs": [
        {
          "output_type": "stream",
          "name": "stdout",
          "text": [
            "                          Vector Machines Random Forest K Neighbors\n",
            "Correctamente clasificados      0.52          0.69          0.63\n",
            "                          Vector Machines Random Forest K Neighbors\n",
            "Correctamente clasificados      0.52          0.69          0.63\n"
          ]
        }
      ],
      "source": [
        "print('                          Vector Machines','Random Forest','K Neighbors' )\n",
        "print('Correctamente clasificados','    ',round(svmacc,2),'        ',round(rfacc,2),'        ',round(ncacc,2))\n"
      ]
    }
  ],
  "metadata": {
    "colab": {
      "provenance": [],
      "authorship_tag": "ABX9TyO4UPKVNvEro65OHG0q5HOk",
      "include_colab_link": true
    },
    "kernelspec": {
      "display_name": "Python 3",
      "name": "python3"
    },
    "language_info": {
      "name": "python"
    }
  },
  "nbformat": 4,
  "nbformat_minor": 0
}